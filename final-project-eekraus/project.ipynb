{
 "cells": [
  {
   "cell_type": "code",
   "execution_count": 3,
   "metadata": {},
   "outputs": [],
   "source": [
    "import numpy as np\n",
    "import matplotlib.pyplot as plt\n",
    "from numpy import random as rng"
   ]
  },
  {
   "cell_type": "raw",
   "metadata": {},
   "source": [
    "function to create a population of a certain size and value"
   ]
  },
  {
   "cell_type": "code",
   "execution_count": 4,
   "metadata": {},
   "outputs": [],
   "source": [
    "def population(N, M, value=1):\n",
    "    lattice = (value, (N,M))\n",
    "    return np.full((N, M), value)"
   ]
  },
  {
   "cell_type": "raw",
   "metadata": {},
   "source": [
    "function to visualize a population –– gotta change this to include 3 colors?"
   ]
  },
  {
   "cell_type": "code",
   "execution_count": 113,
   "metadata": {},
   "outputs": [],
   "source": [
    "def plotpop(population, left=0, right=0, bottom=0, top=0): #add value to axes\n",
    "    fig, ax = plt.subplots()\n",
    "    im = ax.imshow(population, cmap = 'ocean', aspect = 'equal')\n",
    "    return im"
   ]
  },
  {
   "cell_type": "markdown",
   "metadata": {},
   "source": [
    "A normal population is going to be 1s, immunized will be 0s, infected will be -1s"
   ]
  },
  {
   "cell_type": "raw",
   "metadata": {},
   "source": [
    "function to choose a random person"
   ]
  },
  {
   "cell_type": "code",
   "execution_count": 6,
   "metadata": {},
   "outputs": [],
   "source": [
    "def randomperson(population):\n",
    "    #make one variable x the width of the lattice: x = np.shape(lattice)[0]\n",
    "    #make one variable y the height of the lattice: y = np.shape(lattice)[1]\n",
    "    #rn_x is a random integer from 0 to x: rn_x = rng.randint(0,x)\n",
    "    #rn_y is a random integer from 0 to y: rn_y = rng.randint(0,y)\n",
    "    #define (rn_x, rn_y) in lattice: particle = lattice[rn_x, rn_y]\n",
    "    x = np.shape(population)[0]\n",
    "    y = np.shape(population)[1]\n",
    "    rn_x = rng.randint(0,x)\n",
    "    rn_y = rng.randint(0,y)\n",
    "    person = (rn_x, rn_y)\n",
    "    return person"
   ]
  },
  {
   "cell_type": "raw",
   "metadata": {},
   "source": [
    "function to set a person's value to 0, return new population"
   ]
  },
  {
   "cell_type": "code",
   "execution_count": 7,
   "metadata": {},
   "outputs": [],
   "source": [
    "def immunize(population, person):\n",
    "    new_val = 0\n",
    "    population[person] = new_val\n",
    "    return population"
   ]
  },
  {
   "cell_type": "raw",
   "metadata": {},
   "source": [
    "function to immunize a given percentage of a population"
   ]
  },
  {
   "cell_type": "code",
   "execution_count": 8,
   "metadata": {},
   "outputs": [],
   "source": [
    "def percimmune(perc, population):\n",
    "    N = np.shape(population)[0]\n",
    "    M = np.shape(population)[1]\n",
    "    popdim = N * M\n",
    "    numimmune = int(perc * popdim)\n",
    "    i = 0\n",
    "    while i < numimmune:\n",
    "        r = randomperson(population)\n",
    "        while population[r] == 0:\n",
    "            r = randomperson(population)\n",
    "        population = immunize(population, r)\n",
    "        i += 1\n",
    "    return population"
   ]
  },
  {
   "cell_type": "code",
   "execution_count": 9,
   "metadata": {},
   "outputs": [
    {
     "data": {
      "text/plain": [
       "<matplotlib.image.AxesImage at 0x111516c50>"
      ]
     },
     "execution_count": 9,
     "metadata": {},
     "output_type": "execute_result"
    },
    {
     "data": {
      "image/png": "[encoded data removed]",
      "text/plain": [
       "<Figure size 432x288 with 1 Axes>"
      ]
     },
     "metadata": {
      "needs_background": "light"
     },
     "output_type": "display_data"
    }
   ],
   "source": [
    "p = population(100,100)\n",
    "newp = percimmune(.05, p)\n",
    "plotpop(newp)"
   ]
  },
  {
   "cell_type": "raw",
   "metadata": {},
   "source": [
    "function to copy population bc i need this apparently"
   ]
  },
  {
   "cell_type": "code",
   "execution_count": 11,
   "metadata": {},
   "outputs": [],
   "source": [
    "def copypopulation(population):\n",
    "    lattice = population\n",
    "    return lattice"
   ]
  },
  {
   "cell_type": "raw",
   "metadata": {},
   "source": [
    "function to infect a person"
   ]
  },
  {
   "cell_type": "code",
   "execution_count": 57,
   "metadata": {},
   "outputs": [],
   "source": [
    "def infect(population, person):\n",
    "    val = population[person]\n",
    "    new_val = ((val**2) * -1)    #if val is 0, this will return 0; if it is either 1 or -1, it will return -1\n",
    "    newpop = copypopulation(population)\n",
    "    newpop[person] = new_val\n",
    "    return newpop"
   ]
  },
  {
   "cell_type": "raw",
   "metadata": {},
   "source": [
    "function to infect all adjacent cells to an infected cell"
   ]
  },
  {
   "cell_type": "code",
   "execution_count": 131,
   "metadata": {},
   "outputs": [],
   "source": [
    "def infectneighbors(pop):\n",
    "    \n",
    "    bound_x = np.shape(pop)[0] - 1\n",
    "    bound_y = np.shape(pop)[1] - 1\n",
    "    \n",
    "    N = np.shape(pop)[0]\n",
    "    M = np.shape(pop)[1]\n",
    "\n",
    "    newpop = copypopulation(pop)\n",
    "    \n",
    "    infectedcells = []\n",
    "    \n",
    "    j = 0\n",
    "    while j < M:\n",
    "        i = 0\n",
    "        while i < N:\n",
    "            cell = (i, j)\n",
    "            if pop[cell] == -1:\n",
    "                infectedcells.append(cell)    \n",
    "            i += 1\n",
    "        j += 1\n",
    "\n",
    "    for (i,j) in infectedcells:\n",
    "        if i == 0:\n",
    "            person = (i+1, j)\n",
    "            newpop = infect(newpop, person)\n",
    "        elif i == bound_x:\n",
    "            person = (i-1, j)\n",
    "            newpop = infect(newpop, person)\n",
    "        else: #i in between\n",
    "            person1 = (i-1, j)\n",
    "            newpop = infect(newpop, person1)\n",
    "            person2 = i+1, j\n",
    "            newpop = infect(newpop, person2)\n",
    "        if j == 0:\n",
    "            person = (i, j+1)\n",
    "            newpop = infect(newpop, person)\n",
    "        elif j == bound_y:\n",
    "            person = (i, j-1)\n",
    "            newpop = infect(newpop, person)\n",
    "        else: #j in between\n",
    "            person1 = (i, j-1)\n",
    "            newpop = infect(newpop, person1)\n",
    "            person2 = (i, j+1)\n",
    "            newpop = infect(newpop, person2)\n",
    "\n",
    "    return infectedcells"
   ]
  },
  {
   "cell_type": "code",
   "execution_count": 132,
   "metadata": {
    "scrolled": false
   },
   "outputs": [
    {
     "data": {
      "text/plain": [
       "<matplotlib.image.AxesImage at 0x113d524d0>"
      ]
     },
     "execution_count": 132,
     "metadata": {},
     "output_type": "execute_result"
    },
    {
     "data": {
      "image/png": "[encoded data removed]",
      "text/plain": [
       "<Figure size 432x288 with 1 Axes>"
      ]
     },
     "metadata": {
      "needs_background": "light"
     },
     "output_type": "display_data"
    }
   ],
   "source": [
    "p = population(45,30)\n",
    "percimmune(.05, p)\n",
    "newp = infect(p, (7, 2))\n",
    "infectneighbors(newp)\n",
    "plotpop(newp)"
   ]
  },
  {
   "cell_type": "code",
   "execution_count": 134,
   "metadata": {},
   "outputs": [],
   "source": [
    "def spreadinfect(pop, iterations):\n",
    "    i = 0\n",
    "    while i < iterations:\n",
    "        infectneighbors(pop)\n",
    "        i += 1\n",
    "    plotpop(pop)"
   ]
  },
  {
   "cell_type": "code",
   "execution_count": 140,
   "metadata": {},
   "outputs": [
    {
     "data": {
      "image/png": "[encoded data removed]",
      "text/plain": [
       "<Figure size 432x288 with 1 Axes>"
      ]
     },
     "metadata": {
      "needs_background": "light"
     },
     "output_type": "display_data"
    }
   ],
   "source": [
    "p = population(45,30)\n",
    "percimmune(.05, p)\n",
    "newp = infect(p, (7, 2))\n",
    "spreadinfect(newp, 60)"
   ]
  },
  {
   "cell_type": "code",
   "execution_count": null,
   "metadata": {},
   "outputs": [],
   "source": []
  }
 ],
 "metadata": {
  "kernelspec": {
   "display_name": "Python 3",
   "language": "python",
   "name": "python3"
  },
  "language_info": {
   "codemirror_mode": {
    "name": "ipython",
    "version": 3
   },
   "file_extension": ".py",
   "mimetype": "text/x-python",
   "name": "python",
   "nbconvert_exporter": "python",
   "pygments_lexer": "ipython3",
   "version": "3.7.5"
  }
 },
 "nbformat": 4,
 "nbformat_minor": 2
}
