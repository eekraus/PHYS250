{
 "cells": [
  {
   "cell_type": "code",
   "execution_count": 1,
   "metadata": {},
   "outputs": [],
   "source": [
    "import numpy as np\n",
    "import matplotlib\n",
    "import matplotlib.pyplot as plt\n",
    "from numpy import random as rng\n",
    "from matplotlib import cm\n",
    "from matplotlib.colors import ListedColormap, LinearSegmentedColormap"
   ]
  },
  {
   "cell_type": "raw",
   "metadata": {},
   "source": [
    "function to create a population of a certain size and value"
   ]
  },
  {
   "cell_type": "code",
   "execution_count": 2,
   "metadata": {},
   "outputs": [],
   "source": [
    "def population(N, M, value=1):\n",
    "    lattice = (value, (N,M))\n",
    "    return np.full((N, M), value)"
   ]
  },
  {
   "cell_type": "raw",
   "metadata": {},
   "source": [
    "function to visualize a population"
   ]
  },
  {
   "cell_type": "code",
   "execution_count": 3,
   "metadata": {},
   "outputs": [],
   "source": [
    "def plotpop(population, left=0, right=0, bottom=0, top=0): #add value to axes\n",
    "    fig, ax = plt.subplots()\n",
    "    \n",
    "    cmap = plt.cm.ocean\n",
    "    norm = plt.Normalize(-1, 2)\n",
    "    \n",
    "    im = ax.imshow(population, cmap=cmap, norm=norm, aspect = 'equal')\n",
    "    return im"
   ]
  },
  {
   "cell_type": "markdown",
   "metadata": {},
   "source": [
    "A normal population is going to be 1s, immunized will be 0s, infected will be -1s"
   ]
  },
  {
   "cell_type": "raw",
   "metadata": {},
   "source": [
    "function to choose a random person"
   ]
  },
  {
   "cell_type": "code",
   "execution_count": 4,
   "metadata": {},
   "outputs": [],
   "source": [
    "def randomperson(population):\n",
    "    #make one variable x the width of the lattice: x = np.shape(lattice)[0]\n",
    "    #make one variable y the height of the lattice: y = np.shape(lattice)[1]\n",
    "    #rn_x is a random integer from 0 to x: rn_x = rng.randint(0,x)\n",
    "    #rn_y is a random integer from 0 to y: rn_y = rng.randint(0,y)\n",
    "    #define (rn_x, rn_y) in lattice: particle = lattice[rn_x, rn_y]\n",
    "    x = np.shape(population)[0]\n",
    "    y = np.shape(population)[1]\n",
    "    rn_x = rng.randint(0,x)\n",
    "    rn_y = rng.randint(0,y)\n",
    "    person = rn_x, rn_y\n",
    "    return person"
   ]
  },
  {
   "cell_type": "raw",
   "metadata": {},
   "source": [
    "function to set a person's value to 0, return new population"
   ]
  },
  {
   "cell_type": "code",
   "execution_count": 122,
   "metadata": {},
   "outputs": [],
   "source": [
    "def immunize(population, person):\n",
    "    new_val = 0\n",
    "    p_x = person[0]\n",
    "    p_y = person[1]\n",
    "    if population[p_x][p_y] == 2:\n",
    "        return population\n",
    "    else:\n",
    "        population[p_x][p_y] = new_val\n",
    "        return population"
   ]
  },
  {
   "cell_type": "raw",
   "metadata": {},
   "source": [
    "function to immunize a given percentage of a population"
   ]
  },
  {
   "cell_type": "code",
   "execution_count": 123,
   "metadata": {},
   "outputs": [],
   "source": [
    "def percimmune(perc, population):\n",
    "    N = np.shape(population)[0]\n",
    "    M = np.shape(population)[1]\n",
    "    popdim = N * M\n",
    "    numimmune = int(perc * popdim)\n",
    "    i = 0\n",
    "    while i < numimmune:\n",
    "        r = randomperson(population)\n",
    "        r_x = r[0]\n",
    "        r_y = r[1]\n",
    "        while population[r_x][r_y] == 0:\n",
    "            r = randomperson(population)\n",
    "            r_x = r[0]\n",
    "            r_y = r[1]\n",
    "        while population[r_x][r_y] == 2:\n",
    "            r = randomperson(population)\n",
    "            r_x = r[0]\n",
    "            r_y = r[1]\n",
    "        population = immunize(population, r)\n",
    "        i += 1\n",
    "    return population"
   ]
  },
  {
   "cell_type": "code",
   "execution_count": 124,
   "metadata": {
    "scrolled": false
   },
   "outputs": [
    {
     "data": {
      "text/plain": [
       "array([1, 1, 1, 0, 0, 0, 0, 0, 1, 0])"
      ]
     },
     "execution_count": 124,
     "metadata": {},
     "output_type": "execute_result"
    },
    {
     "data": {
      "image/png": "[encoded data removed]",
      "text/plain": [
       "<Figure size 432x288 with 1 Axes>"
      ]
     },
     "metadata": {
      "needs_background": "light"
     },
     "output_type": "display_data"
    }
   ],
   "source": [
    "p = population(10,10)\n",
    "newp = percimmune(.5, p)\n",
    "plotpop(newp)\n",
    "newp[2]"
   ]
  },
  {
   "cell_type": "raw",
   "metadata": {},
   "source": [
    "function to copy population bc i need this apparently"
   ]
  },
  {
   "cell_type": "code",
   "execution_count": 8,
   "metadata": {},
   "outputs": [],
   "source": [
    "def copypopulation(population):\n",
    "    lattice = population\n",
    "    return lattice"
   ]
  },
  {
   "cell_type": "raw",
   "metadata": {},
   "source": [
    "function to infect a person"
   ]
  },
  {
   "cell_type": "code",
   "execution_count": 125,
   "metadata": {},
   "outputs": [],
   "source": [
    "def infect(population, person):\n",
    "    p_x = person[0]\n",
    "    p_y = person[1]\n",
    "    val = population[p_x][p_y]\n",
    "    if val == 2:\n",
    "        return population\n",
    "    else:\n",
    "        new_val = ((val**2) * -1)    #if val is 0, this will return 0; if it is either 1 or -1, it will return -1\n",
    "        newpop = copypopulation(population)\n",
    "        newpop[p_x][p_y] = new_val\n",
    "        return newpop"
   ]
  },
  {
   "cell_type": "raw",
   "metadata": {},
   "source": [
    "function to infect all adjacent cells to an infected cell"
   ]
  },
  {
   "cell_type": "code",
   "execution_count": 18,
   "metadata": {},
   "outputs": [],
   "source": [
    "def infectneighbors(pop):\n",
    "    \n",
    "    bound_x = np.shape(pop)[0] - 1\n",
    "    bound_y = np.shape(pop)[1] - 1\n",
    "    \n",
    "    N = np.shape(pop)[0]\n",
    "    M = np.shape(pop)[1]\n",
    "\n",
    "    newpop = copypopulation(pop)\n",
    "    \n",
    "    infectedcells = []\n",
    "    \n",
    "    j = 0\n",
    "    while j < M:\n",
    "        i = 0\n",
    "        while i < N:\n",
    "            if pop[i][j] == -1:\n",
    "                infectedcells.append((i,j))    \n",
    "            i += 1\n",
    "        j += 1\n",
    "\n",
    "    for (i,j) in infectedcells:\n",
    "        if i == 0:\n",
    "            person = (i+1, j)\n",
    "            newpop = infect(newpop, person)\n",
    "        elif i == bound_x:\n",
    "            person = (i-1, j)\n",
    "            newpop = infect(newpop, person)\n",
    "        else: #i in between\n",
    "            person1 = (i-1, j)\n",
    "            newpop = infect(newpop, person1)\n",
    "            person2 = i+1, j\n",
    "            newpop = infect(newpop, person2)\n",
    "        if j == 0:\n",
    "            person = (i, j+1)\n",
    "            newpop = infect(newpop, person)\n",
    "        elif j == bound_y:\n",
    "            person = (i, j-1)\n",
    "            newpop = infect(newpop, person)\n",
    "        else: #j in between\n",
    "            person1 = (i, j-1)\n",
    "            newpop = infect(newpop, person1)\n",
    "            person2 = (i, j+1)\n",
    "            newpop = infect(newpop, person2)\n",
    "\n",
    "    return newpop"
   ]
  },
  {
   "cell_type": "raw",
   "metadata": {},
   "source": [
    "function to infect all cells within a certain square radius of an infected cell"
   ]
  },
  {
   "cell_type": "code",
   "execution_count": 155,
   "metadata": {},
   "outputs": [],
   "source": [
    "def infectradius(pop, radius):\n",
    "    r = radius + 1\n",
    "    \n",
    "    bound_x = np.shape(pop)[0] - 1\n",
    "    bound_y = np.shape(pop)[1] - 1\n",
    "    \n",
    "    N = np.shape(pop)[0]\n",
    "    M = np.shape(pop)[1]\n",
    "\n",
    "    newpop = copypopulation(pop)\n",
    "    \n",
    "    infectedcells = []\n",
    "    j = 0\n",
    "    while j < M:\n",
    "        i = 0\n",
    "        while i < N:\n",
    "            if pop[i][j] == -1:\n",
    "                infectedcells.append((i,j))    \n",
    "            i += 1\n",
    "        j += 1\n",
    "\n",
    "    for (i,j) in infectedcells:\n",
    "        if i == 0:\n",
    "            if j == 0:\n",
    "                for k in range(r):\n",
    "                    for l in range(r):\n",
    "                        person = (i+k, j+l)\n",
    "                        newpop = infect(newpop, person)\n",
    "            elif j == bound_y:\n",
    "                for k in range(r):\n",
    "                    for l in range(r):\n",
    "                        person = (i+k, j-l)\n",
    "                        newpop = infect(newpop, person)\n",
    "            else: #j in between\n",
    "                for k in range(r):\n",
    "                    for l in range(min(r, bound_y-j)):\n",
    "                        person1 = (i+k, j-l)\n",
    "                        newpop = infect(newpop, person1)\n",
    "                        person2 = (i+k, j+l)\n",
    "                        newpop = infect(newpop, person2)\n",
    "        elif i == bound_x:\n",
    "            if j == 0:\n",
    "                for k in range(r):\n",
    "                    for l in range(r):\n",
    "                        person = (i-k, j+l)\n",
    "                        newpop = infect(newpop, person)\n",
    "            elif j == bound_y:\n",
    "                for k in range(r):\n",
    "                    for l in range(r):\n",
    "                        person = (i-k, j-l)\n",
    "                        newpop = infect(newpop, person)\n",
    "            else: #j in between\n",
    "                for k in range(r):\n",
    "                    for l in range(min(r, bound_y-j)):\n",
    "                        person1 = (i-k, j-l)\n",
    "                        newpop = infect(newpop, person1)\n",
    "                        person2 = (i-k, j+l)\n",
    "                        newpop = infect(newpop, person2)\n",
    "        else: #i in between\n",
    "            if j == 0:\n",
    "                for k in range(min(r, bound_x-i)):\n",
    "                    for l in range(r):\n",
    "                        person1 = (i-k, j+l)\n",
    "                        newpop = infect(newpop, person1)\n",
    "                        person2 = (i+k, j+l)\n",
    "                        newpop = infect(newpop, person2)\n",
    "            elif j == bound_y:\n",
    "                for k in range(min(r, bound_x-i)):\n",
    "                    for l in range(r):\n",
    "                        person1 = (i-k, j-l)\n",
    "                        newpop = infect(newpop, person1)\n",
    "                        person2 = (i+k, j-l)\n",
    "                        newpop = infect(newpop, person2)\n",
    "            else: #j in between\n",
    "                for k in range(min(r, bound_x-i)):\n",
    "                    for l in range(min(r, bound_y-j)):\n",
    "                        person1 = (i-k, j-l)\n",
    "                        newpop = infect(newpop, person1)\n",
    "                        person2 = (i-k, j+l)\n",
    "                        newpop = infect(newpop, person2)\n",
    "                        person3 = (i+k, j-l)\n",
    "                        newpop = infect(newpop, person3)\n",
    "                        person4 = (i+k, j+l)\n",
    "                        newpop = infect(newpop, person4)\n",
    "\n",
    "    return newpop"
   ]
  },
  {
   "cell_type": "raw",
   "metadata": {},
   "source": [
    "the first function infects only neighbors, producing a cross:"
   ]
  },
  {
   "cell_type": "code",
   "execution_count": 148,
   "metadata": {
    "scrolled": false
   },
   "outputs": [
    {
     "data": {
      "text/plain": [
       "<matplotlib.image.AxesImage at 0x116d66ed0>"
      ]
     },
     "execution_count": 148,
     "metadata": {},
     "output_type": "execute_result"
    },
    {
     "data": {
      "image/png": "[encoded data removed]",
      "text/plain": [
       "<Figure size 432x288 with 1 Axes>"
      ]
     },
     "metadata": {
      "needs_background": "light"
     },
     "output_type": "display_data"
    }
   ],
   "source": [
    "p = population(30,45)\n",
    "percimmune(.05, p)\n",
    "newp = infect(p, (15, 23))\n",
    "infectneighbors(newp)\n",
    "plotpop(newp)"
   ]
  },
  {
   "cell_type": "raw",
   "metadata": {},
   "source": [
    "whereas the second produces a square. for comparison, here is the same(ish) population run with a radius of 1:"
   ]
  },
  {
   "cell_type": "code",
   "execution_count": 156,
   "metadata": {},
   "outputs": [
    {
     "data": {
      "text/plain": [
       "<matplotlib.image.AxesImage at 0x118c45850>"
      ]
     },
     "execution_count": 156,
     "metadata": {},
     "output_type": "execute_result"
    },
    {
     "data": {
      "image/png": "[encoded data removed]",
      "text/plain": [
       "<Figure size 432x288 with 1 Axes>"
      ]
     },
     "metadata": {
      "needs_background": "light"
     },
     "output_type": "display_data"
    }
   ],
   "source": [
    "p = population(30,45)\n",
    "percimmune(.05, p)\n",
    "newp = infect(p, (15, 23))\n",
    "infectradius(newp, 1)\n",
    "plotpop(newp)"
   ]
  },
  {
   "cell_type": "raw",
   "metadata": {},
   "source": [
    "function to run infection a given number of times"
   ]
  },
  {
   "cell_type": "code",
   "execution_count": 128,
   "metadata": {},
   "outputs": [],
   "source": [
    "def runinfectn(pop, iterations):\n",
    "    i = 0\n",
    "    while i < iterations:\n",
    "        infectneighbors(pop)\n",
    "        i += 1\n",
    "    plotpop(pop)"
   ]
  },
  {
   "cell_type": "code",
   "execution_count": 131,
   "metadata": {},
   "outputs": [
    {
     "data": {
      "image/png": "[encoded data removed]",
      "text/plain": [
       "<Figure size 432x288 with 1 Axes>"
      ]
     },
     "metadata": {
      "needs_background": "light"
     },
     "output_type": "display_data"
    }
   ],
   "source": [
    "p = population(30,45)\n",
    "percimmune(.4, p)\n",
    "newp = infect(p, (0, 23))\n",
    "runinfectn(newp, 30)"
   ]
  },
  {
   "cell_type": "code",
   "execution_count": 132,
   "metadata": {},
   "outputs": [],
   "source": [
    "def runinfectr(pop, radius, iterations):\n",
    "    i = 0\n",
    "    while i < iterations:\n",
    "        infectradius(pop, radius)\n",
    "        i += 1\n",
    "    plotpop(pop)"
   ]
  },
  {
   "cell_type": "code",
   "execution_count": 134,
   "metadata": {},
   "outputs": [
    {
     "data": {
      "image/png": "[encoded data removed]",
      "text/plain": [
       "<Figure size 432x288 with 1 Axes>"
      ]
     },
     "metadata": {
      "needs_background": "light"
     },
     "output_type": "display_data"
    }
   ],
   "source": [
    "p = population(30,45)\n",
    "percimmune(.5, p)\n",
    "newp = infect(p, (0, 23))\n",
    "runinfectr(newp, 1, 25)"
   ]
  },
  {
   "cell_type": "raw",
   "metadata": {},
   "source": [
    "function that runs infection until everyone is vaccinated/infected/dead or the infection is contained"
   ]
  },
  {
   "cell_type": "raw",
   "metadata": {},
   "source": [
    "first i need this function to tell me if there are duplicates in an array and also return an unchanged array"
   ]
  },
  {
   "cell_type": "code",
   "execution_count": 26,
   "metadata": {},
   "outputs": [],
   "source": [
    "def ifduplicates(array):\n",
    "\n",
    "    arraycopy = []\n",
    "    \n",
    "    for x in array:\n",
    "        arraycopy.append(x)\n",
    "    \n",
    "    newarray = []\n",
    "    for x in array:\n",
    "        if x not in newarray:\n",
    "            newarray.append(x)\n",
    "    for y in newarray:\n",
    "        array.remove(y)\n",
    "\n",
    "    if len(array) == 0:\n",
    "        return arraycopy, 0\n",
    "    else:\n",
    "        return arraycopy, len(array)"
   ]
  },
  {
   "cell_type": "raw",
   "metadata": {},
   "source": [
    "there will be two versions of the iterations also - one for neighbors and one for radii. here's neighbors:"
   ]
  },
  {
   "cell_type": "code",
   "execution_count": 135,
   "metadata": {
    "scrolled": true
   },
   "outputs": [],
   "source": [
    "def nfinditeration(pop, perc):\n",
    "    \n",
    "    popcopy = pop.copy()\n",
    "    \n",
    "    its = 0\n",
    "    uninfected = []\n",
    "    lenuninfected = []\n",
    "    \n",
    "    percimmune(perc, pop)\n",
    "    \n",
    "    N = np.shape(pop)[0]\n",
    "    M = np.shape(pop)[1]\n",
    "    \n",
    "    dimpop = N * M\n",
    "    \n",
    "    loop = 0\n",
    "    while loop < 1:\n",
    "        j = 0\n",
    "        while j < M:\n",
    "            i = 0\n",
    "            while i < N:\n",
    "                if pop[i][j] == 1:\n",
    "                    uninfected.append((i,j))\n",
    "                elif pop[i][j] == 0:\n",
    "                    uninfected.append((i,j))\n",
    "                elif pop[i][j] == 2:\n",
    "                    uninfected.append((i,j))\n",
    "                i += 1\n",
    "            j += 1\n",
    "        \n",
    "        num = len(uninfected)\n",
    "        lenuninfected.append(num) \n",
    "        \n",
    "        (lenuninfected, num) = ifduplicates(lenuninfected)\n",
    "        \n",
    "        if len(uninfected) == dimpop:\n",
    "            infect(pop, randomperson(pop))\n",
    "            lenuninfected.clear()\n",
    "        else:\n",
    "            if num > 0:\n",
    "                loop = 1\n",
    "            elif len(uninfected) > 0:\n",
    "                pop = infectneighbors(pop)\n",
    "                uninfected.clear()\n",
    "            else:\n",
    "                loop = 1\n",
    "        its += 1\n",
    "    return its, popcopy"
   ]
  },
  {
   "cell_type": "code",
   "execution_count": 136,
   "metadata": {
    "scrolled": false
   },
   "outputs": [
    {
     "name": "stdout",
     "output_type": "stream",
     "text": [
      "26\n"
     ]
    },
    {
     "data": {
      "image/png": "[encoded data removed]",
      "text/plain": [
       "<Figure size 432x288 with 1 Axes>"
      ]
     },
     "metadata": {
      "needs_background": "light"
     },
     "output_type": "display_data"
    }
   ],
   "source": [
    "p = population(17,41)\n",
    "infect(p, (8, 20))\n",
    "i = nfinditeration(p, 0.5)[0]\n",
    "print(i)\n",
    "runinfectn(newp, i)"
   ]
  },
  {
   "cell_type": "raw",
   "metadata": {},
   "source": [
    "radius iteration function:"
   ]
  },
  {
   "cell_type": "code",
   "execution_count": 141,
   "metadata": {},
   "outputs": [],
   "source": [
    "def rfinditeration(pop, perc, r):\n",
    "    \n",
    "    popcopy = pop.copy()\n",
    "    \n",
    "    its = 0\n",
    "    uninfected = []\n",
    "    lenuninfected = []\n",
    "    \n",
    "    percimmune(perc, pop)\n",
    "    \n",
    "    N = np.shape(pop)[0]\n",
    "    M = np.shape(pop)[1]\n",
    "    \n",
    "    dimpop = N * M\n",
    "    \n",
    "    loop = 0\n",
    "    while loop < 1:\n",
    "        j = 0\n",
    "        while j < M:\n",
    "            i = 0\n",
    "            while i < N:\n",
    "                if pop[i][j] == 1:\n",
    "                    uninfected.append((i,j))\n",
    "                elif pop[i][j] == 0:\n",
    "                    uninfected.append((i,j))\n",
    "                elif pop[i][j] == 2:\n",
    "                    uninfected.append((i,j))\n",
    "                i += 1\n",
    "            j += 1\n",
    "        \n",
    "        num = len(uninfected)\n",
    "        lenuninfected.append(num) \n",
    "        \n",
    "        (lenuninfected, num) = ifduplicates(lenuninfected)\n",
    "        \n",
    "        if len(uninfected) == dimpop:\n",
    "            infect(pop, randomperson(pop))\n",
    "            lenuninfected.clear()\n",
    "        else:\n",
    "            if num > 0:\n",
    "                loop = 1\n",
    "            elif len(uninfected) > 0:\n",
    "                pop = infectradius(pop,r)\n",
    "                uninfected.clear()\n",
    "            else:\n",
    "                loop = 1\n",
    "        its += 1\n",
    "    return its, popcopy"
   ]
  },
  {
   "cell_type": "code",
   "execution_count": 138,
   "metadata": {},
   "outputs": [
    {
     "name": "stdout",
     "output_type": "stream",
     "text": [
      "45\n"
     ]
    },
    {
     "data": {
      "image/png": "[encoded data removed]",
      "text/plain": [
       "<Figure size 432x288 with 1 Axes>"
      ]
     },
     "metadata": {
      "needs_background": "light"
     },
     "output_type": "display_data"
    }
   ],
   "source": [
    "p = population(17,41)\n",
    "infect(p, (8, 20))\n",
    "i = rfinditeration(p, 0.6, 1)[0]\n",
    "print(i)\n",
    "runinfectr(p, 1, i)"
   ]
  },
  {
   "cell_type": "raw",
   "metadata": {},
   "source": [
    "function that plots percent immunized vs percent infected? or percent immunized vs iterations?\n",
    "do it in different populations, error analysis w results?\n",
    "do it with neighbor/different radii"
   ]
  },
  {
   "cell_type": "code",
   "execution_count": 139,
   "metadata": {},
   "outputs": [],
   "source": [
    "def nimmuneeffect(pop):\n",
    "    \n",
    "    N = np.shape(pop)[0]\n",
    "    M = np.shape(pop)[1]\n",
    "    \n",
    "    dimpop = N * M\n",
    "    \n",
    "    p_im = []\n",
    "    p_inf = []\n",
    "    \n",
    "    percent = 0\n",
    "\n",
    "\n",
    "    (its, popcopy) = nfinditeration(pop, percent)\n",
    "    \n",
    "    plotpop(popcopy)\n",
    "    \n",
    "    while percent < 1:\n",
    "        pop = popcopy.copy()\n",
    "        nfinditeration(pop, percent)\n",
    "        numinfected = 0\n",
    "        j = 0\n",
    "        while j < M:\n",
    "            i = 0\n",
    "            while i < N:\n",
    "                if pop[i][j] == -1:\n",
    "                    numinfected += 1\n",
    "                elif pop[i][j] == 2:\n",
    "                    numinfected += 1\n",
    "                i += 1\n",
    "            j += 1\n",
    "        inffrac = float(numinfected/dimpop)\n",
    "        p_inf.append(inffrac)\n",
    "        p_im.append(percent)\n",
    "        percent += .01\n",
    "    \n",
    "    if percent == 1:\n",
    "        p_im.append(1)\n",
    "        p_inf.append(0)\n",
    "    \n",
    "    plt.clf()\n",
    "    plt.plot(p_im, p_inf)\n",
    "    plt.title('percent immunized vs. percent infected')\n",
    "    plt.grid(True)\n",
    "    plt.show()"
   ]
  },
  {
   "cell_type": "code",
   "execution_count": 140,
   "metadata": {
    "scrolled": false
   },
   "outputs": [
    {
     "data": {
      "image/png": "[encoded data removed]",
      "text/plain": [
       "<Figure size 432x288 with 1 Axes>"
      ]
     },
     "metadata": {
      "needs_background": "light"
     },
     "output_type": "display_data"
    }
   ],
   "source": [
    "p = population(100,100)\n",
    "infect(p, (5, 5))\n",
    "nimmuneeffect(p)"
   ]
  },
  {
   "cell_type": "raw",
   "metadata": {},
   "source": [
    "seems it's right around 40% that you need vaccinated to prevent a disease from spreading to adjacent cells in this population"
   ]
  },
  {
   "cell_type": "code",
   "execution_count": 157,
   "metadata": {},
   "outputs": [],
   "source": [
    "def rimmuneeffect(pop, r):\n",
    "    \n",
    "    N = np.shape(pop)[0]\n",
    "    M = np.shape(pop)[1]\n",
    "    \n",
    "    dimpop = N * M\n",
    "    \n",
    "    p_im = []\n",
    "    p_inf = []\n",
    "    \n",
    "    percent = 0\n",
    "\n",
    "\n",
    "    (its, popcopy) = rfinditeration(pop, percent, r)\n",
    "    \n",
    "    plotpop(popcopy)\n",
    "    \n",
    "    while percent < 1:\n",
    "        pop = popcopy.copy()\n",
    "        rfinditeration(pop, percent, r)\n",
    "        numinfected = 0\n",
    "        j = 0\n",
    "        while j < M:\n",
    "            i = 0\n",
    "            while i < N:\n",
    "                if pop[i][j] == -1:\n",
    "                    numinfected += 1\n",
    "                elif pop[i][j] == 2:\n",
    "                    numinfected += 1\n",
    "                i += 1\n",
    "            j += 1\n",
    "        inffrac = float(numinfected/dimpop)\n",
    "        p_inf.append(inffrac)\n",
    "        p_im.append(percent)\n",
    "        percent += .01\n",
    "    \n",
    "    if percent == 1:\n",
    "        p_im.append(1)\n",
    "        p_inf.append(0)\n",
    "    \n",
    "    plt.clf()\n",
    "    plt.plot(p_im, p_inf)\n",
    "    plt.title('percent immunized vs. percent infected')\n",
    "    plt.grid(True)\n",
    "    plt.show()"
   ]
  },
  {
   "cell_type": "code",
   "execution_count": 161,
   "metadata": {},
   "outputs": [
    {
     "data": {
      "image/png": "[encoded data removed]",
      "text/plain": [
       "<Figure size 432x288 with 1 Axes>"
      ]
     },
     "metadata": {
      "needs_background": "light"
     },
     "output_type": "display_data"
    }
   ],
   "source": [
    "p = population(100,100)\n",
    "infect(p, (5, 5))\n",
    "rimmuneeffect(p, 5)"
   ]
  },
  {
   "cell_type": "raw",
   "metadata": {},
   "source": [
    "function that disinfects/immunizes/kills cells that have been infected for a certain number of iterations\n",
    " – problem here is gonna be differentiating immunized cells from dead cells bc they're essentially the same but i    want them to be different colors\n",
    "     – i can just make it 2 and then make a clause in every function saying if it's 2 leave it alone\n",
    " – i can create an array for each cell once it's infected and use ifduplicates to count how long it's been\n",
    " – i'll use a random number generator that gives either 0 or 1 at probabilities defined by fatality rate"
   ]
  },
  {
   "cell_type": "code",
   "execution_count": 335,
   "metadata": {},
   "outputs": [],
   "source": [
    "def infrec(pop):#, iterations):\n",
    "        \n",
    "    N = np.shape(pop)[0]\n",
    "    M = np.shape(pop)[1]\n",
    "    \n",
    "    def val(x,y):\n",
    "        return pop[x][y]\n",
    "    \n",
    "    for y in range(M):\n",
    "        for x in range(N):\n",
    "            name = 'array'#(\"array_%s_%r\" %(x,y))\n",
    "            val = ('pop[%s][%r]' %(x,y))\n",
    "            val = eval(val)\n",
    "            exec(\"%s = %d\" %(name, 1))\n",
    "    \n",
    "    print(array) #_0_0\n",
    "    \n",
    "    dimpop = N * M\n",
    "    \n",
    "    arrays = []\n",
    "    \n",
    "    j = 0\n",
    "    while j < M:\n",
    "        i = 0\n",
    "        while i < N:\n",
    "                \n",
    "            i += 1\n",
    "        j += 1\n",
    "    \n",
    "    return arrays"
   ]
  },
  {
   "cell_type": "code",
   "execution_count": 336,
   "metadata": {},
   "outputs": [
    {
     "ename": "NameError",
     "evalue": "name 'array' is not defined",
     "output_type": "error",
     "traceback": [
      "\u001b[0;31m---------------------------------------------------------------------------\u001b[0m",
      "\u001b[0;31mNameError\u001b[0m                                 Traceback (most recent call last)",
      "\u001b[0;32m<ipython-input-336-3407e58e6358>\u001b[0m in \u001b[0;36m<module>\u001b[0;34m\u001b[0m\n\u001b[1;32m      1\u001b[0m \u001b[0mp\u001b[0m \u001b[0;34m=\u001b[0m \u001b[0mpopulation\u001b[0m\u001b[0;34m(\u001b[0m\u001b[0;36m2\u001b[0m\u001b[0;34m,\u001b[0m\u001b[0;36m2\u001b[0m\u001b[0;34m)\u001b[0m\u001b[0;34m\u001b[0m\u001b[0;34m\u001b[0m\u001b[0m\n\u001b[1;32m      2\u001b[0m \u001b[0minfect\u001b[0m\u001b[0;34m(\u001b[0m\u001b[0mp\u001b[0m\u001b[0;34m,\u001b[0m \u001b[0;34m(\u001b[0m\u001b[0;36m1\u001b[0m\u001b[0;34m,\u001b[0m \u001b[0;36m1\u001b[0m\u001b[0;34m)\u001b[0m\u001b[0;34m)\u001b[0m\u001b[0;34m\u001b[0m\u001b[0;34m\u001b[0m\u001b[0m\n\u001b[0;32m----> 3\u001b[0;31m \u001b[0minfrec\u001b[0m\u001b[0;34m(\u001b[0m\u001b[0mp\u001b[0m\u001b[0;34m)\u001b[0m\u001b[0;34m\u001b[0m\u001b[0;34m\u001b[0m\u001b[0m\n\u001b[0m",
      "\u001b[0;32m<ipython-input-335-297e00fdcdcb>\u001b[0m in \u001b[0;36minfrec\u001b[0;34m(pop)\u001b[0m\n\u001b[1;32m     14\u001b[0m             \u001b[0mexec\u001b[0m\u001b[0;34m(\u001b[0m\u001b[0;34m\"%s = %d\"\u001b[0m \u001b[0;34m%\u001b[0m\u001b[0;34m(\u001b[0m\u001b[0mname\u001b[0m\u001b[0;34m,\u001b[0m \u001b[0;36m1\u001b[0m\u001b[0;34m)\u001b[0m\u001b[0;34m)\u001b[0m\u001b[0;34m\u001b[0m\u001b[0;34m\u001b[0m\u001b[0m\n\u001b[1;32m     15\u001b[0m \u001b[0;34m\u001b[0m\u001b[0m\n\u001b[0;32m---> 16\u001b[0;31m     \u001b[0mprint\u001b[0m\u001b[0;34m(\u001b[0m\u001b[0marray\u001b[0m\u001b[0;34m)\u001b[0m \u001b[0;31m#_0_0\u001b[0m\u001b[0;34m\u001b[0m\u001b[0;34m\u001b[0m\u001b[0m\n\u001b[0m\u001b[1;32m     17\u001b[0m \u001b[0;34m\u001b[0m\u001b[0m\n\u001b[1;32m     18\u001b[0m     \u001b[0mdimpop\u001b[0m \u001b[0;34m=\u001b[0m \u001b[0mN\u001b[0m \u001b[0;34m*\u001b[0m \u001b[0mM\u001b[0m\u001b[0;34m\u001b[0m\u001b[0;34m\u001b[0m\u001b[0m\n",
      "\u001b[0;31mNameError\u001b[0m: name 'array' is not defined"
     ]
    }
   ],
   "source": [
    "p = population(2,2)\n",
    "infect(p, (1, 1))\n",
    "infrec(p)"
   ]
  },
  {
   "cell_type": "code",
   "execution_count": null,
   "metadata": {},
   "outputs": [],
   "source": []
  }
 ],
 "metadata": {
  "kernelspec": {
   "display_name": "Python 3",
   "language": "python",
   "name": "python3"
  },
  "language_info": {
   "codemirror_mode": {
    "name": "ipython",
    "version": 3
   },
   "file_extension": ".py",
   "mimetype": "text/x-python",
   "name": "python",
   "nbconvert_exporter": "python",
   "pygments_lexer": "ipython3",
   "version": "3.7.5"
  }
 },
 "nbformat": 4,
 "nbformat_minor": 2
}
