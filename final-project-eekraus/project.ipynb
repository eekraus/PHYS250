{
 "cells": [
  {
   "cell_type": "code",
   "execution_count": 502,
   "metadata": {},
   "outputs": [],
   "source": [
    "import numpy as np\n",
    "import matplotlib\n",
    "import matplotlib.pyplot as plt\n",
    "from numpy import random as rng\n",
    "from matplotlib import cm\n",
    "from matplotlib.colors import ListedColormap, LinearSegmentedColormap"
   ]
  },
  {
   "cell_type": "raw",
   "metadata": {},
   "source": [
    "function to create a population of a certain size and value"
   ]
  },
  {
   "cell_type": "code",
   "execution_count": 2,
   "metadata": {},
   "outputs": [],
   "source": [
    "def population(N, M, value=1):\n",
    "    lattice = (value, (N,M))\n",
    "    return np.full((N, M), value)"
   ]
  },
  {
   "cell_type": "raw",
   "metadata": {},
   "source": [
    "function to visualize a population"
   ]
  },
  {
   "cell_type": "code",
   "execution_count": 503,
   "metadata": {},
   "outputs": [],
   "source": [
    "def plotpop(population, left=0, right=0, bottom=0, top=0): #add value to axes\n",
    "    fig, ax = plt.subplots()\n",
    "    \n",
    "    cmap = plt.cm.viridis\n",
    "    norm = plt.Normalize(-1, 2)\n",
    "    \n",
    "    im = ax.imshow(population, cmap=cmap, norm=norm, aspect = 'equal')\n",
    "    return im"
   ]
  },
  {
   "cell_type": "markdown",
   "metadata": {},
   "source": [
    "A normal population is going to be 1s, immunized will be 0s, infected will be -1s"
   ]
  },
  {
   "cell_type": "raw",
   "metadata": {},
   "source": [
    "function to choose a random person"
   ]
  },
  {
   "cell_type": "code",
   "execution_count": 4,
   "metadata": {},
   "outputs": [],
   "source": [
    "def randomperson(population):\n",
    "    #make one variable x the width of the lattice: x = np.shape(lattice)[0]\n",
    "    #make one variable y the height of the lattice: y = np.shape(lattice)[1]\n",
    "    #rn_x is a random integer from 0 to x: rn_x = rng.randint(0,x)\n",
    "    #rn_y is a random integer from 0 to y: rn_y = rng.randint(0,y)\n",
    "    #define (rn_x, rn_y) in lattice: particle = lattice[rn_x, rn_y]\n",
    "    x = np.shape(population)[0]\n",
    "    y = np.shape(population)[1]\n",
    "    rn_x = rng.randint(0,x)\n",
    "    rn_y = rng.randint(0,y)\n",
    "    person = rn_x, rn_y\n",
    "    return person"
   ]
  },
  {
   "cell_type": "raw",
   "metadata": {},
   "source": [
    "function to set a person's value to 0, return new population"
   ]
  },
  {
   "cell_type": "code",
   "execution_count": 122,
   "metadata": {},
   "outputs": [],
   "source": [
    "def immunize(population, person):\n",
    "    new_val = 0\n",
    "    p_x = person[0]\n",
    "    p_y = person[1]\n",
    "    if population[p_x][p_y] == 2:\n",
    "        return population\n",
    "    else:\n",
    "        population[p_x][p_y] = new_val\n",
    "        return population"
   ]
  },
  {
   "cell_type": "raw",
   "metadata": {},
   "source": [
    "function to immunize a given percentage of a population"
   ]
  },
  {
   "cell_type": "code",
   "execution_count": 123,
   "metadata": {},
   "outputs": [],
   "source": [
    "def percimmune(perc, population):\n",
    "    N = np.shape(population)[0]\n",
    "    M = np.shape(population)[1]\n",
    "    popdim = N * M\n",
    "    numimmune = int(perc * popdim)\n",
    "    i = 0\n",
    "    while i < numimmune:\n",
    "        r = randomperson(population)\n",
    "        r_x = r[0]\n",
    "        r_y = r[1]\n",
    "        while population[r_x][r_y] == 0:\n",
    "            r = randomperson(population)\n",
    "            r_x = r[0]\n",
    "            r_y = r[1]\n",
    "        while population[r_x][r_y] == 2:\n",
    "            r = randomperson(population)\n",
    "            r_x = r[0]\n",
    "            r_y = r[1]\n",
    "        population = immunize(population, r)\n",
    "        i += 1\n",
    "    return population"
   ]
  },
  {
   "cell_type": "code",
   "execution_count": 504,
   "metadata": {
    "scrolled": false
   },
   "outputs": [
    {
     "data": {
      "text/plain": [
       "array([0, 0, 0, 0, 0, 1, 0, 0, 0, 1])"
      ]
     },
     "execution_count": 504,
     "metadata": {},
     "output_type": "execute_result"
    },
    {
     "data": {
      "image/png": "[encoded data removed]",
      "text/plain": [
       "<Figure size 432x288 with 1 Axes>"
      ]
     },
     "metadata": {
      "needs_background": "light"
     },
     "output_type": "display_data"
    }
   ],
   "source": [
    "p = population(10,10)\n",
    "newp = percimmune(.5, p)\n",
    "plotpop(newp)\n",
    "newp[2]"
   ]
  },
  {
   "cell_type": "raw",
   "metadata": {},
   "source": [
    "function to copy population bc i need this apparently"
   ]
  },
  {
   "cell_type": "code",
   "execution_count": 8,
   "metadata": {},
   "outputs": [],
   "source": [
    "def copypopulation(population):\n",
    "    lattice = population\n",
    "    return lattice"
   ]
  },
  {
   "cell_type": "raw",
   "metadata": {},
   "source": [
    "function to infect a person"
   ]
  },
  {
   "cell_type": "code",
   "execution_count": 125,
   "metadata": {},
   "outputs": [],
   "source": [
    "def infect(population, person):\n",
    "    p_x = person[0]\n",
    "    p_y = person[1]\n",
    "    val = population[p_x][p_y]\n",
    "    if val == 2:\n",
    "        return population\n",
    "    else:\n",
    "        new_val = ((val**2) * -1)    #if val is 0, this will return 0; if it is either 1 or -1, it will return -1\n",
    "        newpop = copypopulation(population)\n",
    "        newpop[p_x][p_y] = new_val\n",
    "        return newpop"
   ]
  },
  {
   "cell_type": "code",
   "execution_count": 672,
   "metadata": {},
   "outputs": [],
   "source": [
    "def sumpop(pop):\n",
    "    \n",
    "    N = np.shape(pop)[0]\n",
    "    M = np.shape(pop)[1]\n",
    "    \n",
    "    sumpop = 0\n",
    "    \n",
    "    j = 0\n",
    "    while j < M:\n",
    "        i = 0\n",
    "        while i < N:\n",
    "            x = pop[i][j]\n",
    "            sumpop = sumpop + x\n",
    "            i += 1\n",
    "        j += 1\n",
    "\n",
    "    return sumpop"
   ]
  },
  {
   "cell_type": "raw",
   "metadata": {},
   "source": [
    "function to infect all adjacent cells to an infected cell"
   ]
  },
  {
   "cell_type": "code",
   "execution_count": 18,
   "metadata": {},
   "outputs": [],
   "source": [
    "def infectneighbors(pop):\n",
    "    \n",
    "    bound_x = np.shape(pop)[0] - 1\n",
    "    bound_y = np.shape(pop)[1] - 1\n",
    "    \n",
    "    N = np.shape(pop)[0]\n",
    "    M = np.shape(pop)[1]\n",
    "\n",
    "    newpop = copypopulation(pop)\n",
    "    \n",
    "    infectedcells = []\n",
    "    \n",
    "    j = 0\n",
    "    while j < M:\n",
    "        i = 0\n",
    "        while i < N:\n",
    "            if pop[i][j] == -1:\n",
    "                infectedcells.append((i,j))    \n",
    "            i += 1\n",
    "        j += 1\n",
    "\n",
    "    for (i,j) in infectedcells:\n",
    "        if i == 0:\n",
    "            person = (i+1, j)\n",
    "            newpop = infect(newpop, person)\n",
    "        elif i == bound_x:\n",
    "            person = (i-1, j)\n",
    "            newpop = infect(newpop, person)\n",
    "        else: #i in between\n",
    "            person1 = (i-1, j)\n",
    "            newpop = infect(newpop, person1)\n",
    "            person2 = i+1, j\n",
    "            newpop = infect(newpop, person2)\n",
    "        if j == 0:\n",
    "            person = (i, j+1)\n",
    "            newpop = infect(newpop, person)\n",
    "        elif j == bound_y:\n",
    "            person = (i, j-1)\n",
    "            newpop = infect(newpop, person)\n",
    "        else: #j in between\n",
    "            person1 = (i, j-1)\n",
    "            newpop = infect(newpop, person1)\n",
    "            person2 = (i, j+1)\n",
    "            newpop = infect(newpop, person2)\n",
    "\n",
    "    return newpop"
   ]
  },
  {
   "cell_type": "raw",
   "metadata": {},
   "source": [
    "function to infect all cells within a certain square radius of an infected cell"
   ]
  },
  {
   "cell_type": "code",
   "execution_count": 155,
   "metadata": {},
   "outputs": [],
   "source": [
    "def infectradius(pop, radius):\n",
    "    r = radius + 1\n",
    "    \n",
    "    bound_x = np.shape(pop)[0] - 1\n",
    "    bound_y = np.shape(pop)[1] - 1\n",
    "    \n",
    "    N = np.shape(pop)[0]\n",
    "    M = np.shape(pop)[1]\n",
    "\n",
    "    newpop = copypopulation(pop)\n",
    "    \n",
    "    infectedcells = []\n",
    "    j = 0\n",
    "    while j < M:\n",
    "        i = 0\n",
    "        while i < N:\n",
    "            if pop[i][j] == -1:\n",
    "                infectedcells.append((i,j))    \n",
    "            i += 1\n",
    "        j += 1\n",
    "\n",
    "    for (i,j) in infectedcells:\n",
    "        if i == 0:\n",
    "            if j == 0:\n",
    "                for k in range(r):\n",
    "                    for l in range(r):\n",
    "                        person = (i+k, j+l)\n",
    "                        newpop = infect(newpop, person)\n",
    "            elif j == bound_y:\n",
    "                for k in range(r):\n",
    "                    for l in range(r):\n",
    "                        person = (i+k, j-l)\n",
    "                        newpop = infect(newpop, person)\n",
    "            else: #j in between\n",
    "                for k in range(r):\n",
    "                    for l in range(min(r, bound_y-j)):\n",
    "                        person1 = (i+k, j-l)\n",
    "                        newpop = infect(newpop, person1)\n",
    "                        person2 = (i+k, j+l)\n",
    "                        newpop = infect(newpop, person2)\n",
    "        elif i == bound_x:\n",
    "            if j == 0:\n",
    "                for k in range(r):\n",
    "                    for l in range(r):\n",
    "                        person = (i-k, j+l)\n",
    "                        newpop = infect(newpop, person)\n",
    "            elif j == bound_y:\n",
    "                for k in range(r):\n",
    "                    for l in range(r):\n",
    "                        person = (i-k, j-l)\n",
    "                        newpop = infect(newpop, person)\n",
    "            else: #j in between\n",
    "                for k in range(r):\n",
    "                    for l in range(min(r, bound_y-j)):\n",
    "                        person1 = (i-k, j-l)\n",
    "                        newpop = infect(newpop, person1)\n",
    "                        person2 = (i-k, j+l)\n",
    "                        newpop = infect(newpop, person2)\n",
    "        else: #i in between\n",
    "            if j == 0:\n",
    "                for k in range(min(r, bound_x-i)):\n",
    "                    for l in range(r):\n",
    "                        person1 = (i-k, j+l)\n",
    "                        newpop = infect(newpop, person1)\n",
    "                        person2 = (i+k, j+l)\n",
    "                        newpop = infect(newpop, person2)\n",
    "            elif j == bound_y:\n",
    "                for k in range(min(r, bound_x-i)):\n",
    "                    for l in range(r):\n",
    "                        person1 = (i-k, j-l)\n",
    "                        newpop = infect(newpop, person1)\n",
    "                        person2 = (i+k, j-l)\n",
    "                        newpop = infect(newpop, person2)\n",
    "            else: #j in between\n",
    "                for k in range(min(r, bound_x-i)):\n",
    "                    for l in range(min(r, bound_y-j)):\n",
    "                        person1 = (i-k, j-l)\n",
    "                        newpop = infect(newpop, person1)\n",
    "                        person2 = (i-k, j+l)\n",
    "                        newpop = infect(newpop, person2)\n",
    "                        person3 = (i+k, j-l)\n",
    "                        newpop = infect(newpop, person3)\n",
    "                        person4 = (i+k, j+l)\n",
    "                        newpop = infect(newpop, person4)\n",
    "\n",
    "    return newpop"
   ]
  },
  {
   "cell_type": "raw",
   "metadata": {},
   "source": [
    "the first function infects only neighbors, producing a cross:"
   ]
  },
  {
   "cell_type": "code",
   "execution_count": 505,
   "metadata": {
    "scrolled": false
   },
   "outputs": [
    {
     "data": {
      "text/plain": [
       "<matplotlib.image.AxesImage at 0x117037650>"
      ]
     },
     "execution_count": 505,
     "metadata": {},
     "output_type": "execute_result"
    },
    {
     "data": {
      "image/png": "[encoded data removed]",
      "text/plain": [
       "<Figure size 432x288 with 1 Axes>"
      ]
     },
     "metadata": {
      "needs_background": "light"
     },
     "output_type": "display_data"
    }
   ],
   "source": [
    "p = population(30,45)\n",
    "percimmune(.05, p)\n",
    "newp = infect(p, (15, 23))\n",
    "infectneighbors(newp)\n",
    "plotpop(newp)"
   ]
  },
  {
   "cell_type": "raw",
   "metadata": {},
   "source": [
    "whereas the second produces a square. for comparison, here is the same(ish) population run with a radius of 1:"
   ]
  },
  {
   "cell_type": "code",
   "execution_count": 506,
   "metadata": {},
   "outputs": [
    {
     "data": {
      "text/plain": [
       "<matplotlib.image.AxesImage at 0x117ce3f90>"
      ]
     },
     "execution_count": 506,
     "metadata": {},
     "output_type": "execute_result"
    },
    {
     "data": {
      "image/png": "[encoded data removed]",
      "text/plain": [
       "<Figure size 432x288 with 1 Axes>"
      ]
     },
     "metadata": {
      "needs_background": "light"
     },
     "output_type": "display_data"
    }
   ],
   "source": [
    "p = population(30,45)\n",
    "percimmune(.05, p)\n",
    "newp = infect(p, (15, 23))\n",
    "infectradius(newp, 1)\n",
    "plotpop(newp)"
   ]
  },
  {
   "cell_type": "raw",
   "metadata": {},
   "source": [
    "function to run infection a given number of times"
   ]
  },
  {
   "cell_type": "code",
   "execution_count": 128,
   "metadata": {},
   "outputs": [],
   "source": [
    "def runinfectn(pop, iterations):\n",
    "    i = 0\n",
    "    while i < iterations:\n",
    "        infectneighbors(pop)\n",
    "        i += 1\n",
    "    plotpop(pop)"
   ]
  },
  {
   "cell_type": "code",
   "execution_count": 508,
   "metadata": {},
   "outputs": [
    {
     "data": {
      "image/png": "[encoded data removed]",
      "text/plain": [
       "<Figure size 432x288 with 1 Axes>"
      ]
     },
     "metadata": {
      "needs_background": "light"
     },
     "output_type": "display_data"
    }
   ],
   "source": [
    "p = population(30,45)\n",
    "percimmune(.4, p)\n",
    "newp = infect(p, (0, 23))\n",
    "runinfectn(newp, 30)"
   ]
  },
  {
   "cell_type": "code",
   "execution_count": 132,
   "metadata": {},
   "outputs": [],
   "source": [
    "def runinfectr(pop, radius, iterations):\n",
    "    i = 0\n",
    "    while i < iterations:\n",
    "        infectradius(pop, radius)\n",
    "        i += 1\n",
    "    plotpop(pop)"
   ]
  },
  {
   "cell_type": "code",
   "execution_count": 509,
   "metadata": {},
   "outputs": [
    {
     "data": {
      "image/png": "[encoded data removed]",
      "text/plain": [
       "<Figure size 432x288 with 1 Axes>"
      ]
     },
     "metadata": {
      "needs_background": "light"
     },
     "output_type": "display_data"
    }
   ],
   "source": [
    "p = population(30,45)\n",
    "percimmune(.5, p)\n",
    "newp = infect(p, (0, 23))\n",
    "runinfectr(newp, 1, 25)"
   ]
  },
  {
   "cell_type": "raw",
   "metadata": {},
   "source": [
    "function that runs infection until everyone is vaccinated/infected/dead or the infection is contained"
   ]
  },
  {
   "cell_type": "raw",
   "metadata": {},
   "source": [
    "first i need this function to tell me if there are duplicates in an array and also return an unchanged array"
   ]
  },
  {
   "cell_type": "code",
   "execution_count": 729,
   "metadata": {},
   "outputs": [],
   "source": [
    "def ifduplicates(array):\n",
    "\n",
    "    originalarray = []\n",
    "    \n",
    "    for x in array:\n",
    "        originalarray.append(x)\n",
    "    \n",
    "    newarray = []\n",
    "    for x in array:\n",
    "        if x not in newarray:\n",
    "            newarray.append(x)\n",
    "    for y in newarray:\n",
    "        array.remove(y)\n",
    "\n",
    "    if len(array) == 0:\n",
    "        return originalarray, 0, array\n",
    "    else:\n",
    "        return originalarray, len(array), array"
   ]
  },
  {
   "cell_type": "code",
   "execution_count": 730,
   "metadata": {},
   "outputs": [
    {
     "data": {
      "text/plain": [
       "([9, 9, 9, 6, 4, 3, 3, 3, 2, 0], 4, [9, 9, 3, 3])"
      ]
     },
     "execution_count": 730,
     "metadata": {},
     "output_type": "execute_result"
    }
   ],
   "source": [
    "array = [9, 9, 9, 6, 4, 3, 3, 3, 2, 0]\n",
    "ifduplicates(array)"
   ]
  },
  {
   "cell_type": "raw",
   "metadata": {},
   "source": [
    "there will be two versions of the iterations also - one for neighbors and one for radii. here's neighbors:"
   ]
  },
  {
   "cell_type": "code",
   "execution_count": 377,
   "metadata": {
    "scrolled": true
   },
   "outputs": [],
   "source": [
    "def nfinditeration(pop, perc):\n",
    "    \n",
    "    popcopy = pop.copy()\n",
    "    \n",
    "    its = 0\n",
    "    uninfected = []\n",
    "    lenuninfected = []\n",
    "    \n",
    "    pop = percimmune(perc, pop)\n",
    "    \n",
    "    N = np.shape(pop)[0]\n",
    "    M = np.shape(pop)[1]\n",
    "    \n",
    "    dimpop = N * M\n",
    "    \n",
    "    loop = 0\n",
    "    while loop < 1:\n",
    "        j = 0\n",
    "        while j < M:\n",
    "            i = 0\n",
    "            while i < N:\n",
    "                if pop[i][j] == 1:\n",
    "                    uninfected.append((i,j))\n",
    "                elif pop[i][j] == 0:\n",
    "                    uninfected.append((i,j))\n",
    "                elif pop[i][j] == 2:\n",
    "                    uninfected.append((i,j))\n",
    "                i += 1\n",
    "            j += 1\n",
    "        \n",
    "        num = len(uninfected)\n",
    "        lenuninfected.append(num) \n",
    "        \n",
    "        (lenuninfected, num, unnecessaryarray) = ifduplicates(lenuninfected)\n",
    "        \n",
    "        if len(uninfected) == dimpop:\n",
    "            infect(pop, randomperson(pop))\n",
    "            lenuninfected.clear()\n",
    "        else:\n",
    "            if num > 0:\n",
    "                loop = 1\n",
    "            elif len(uninfected) > 0:\n",
    "                pop = infectneighbors(pop)\n",
    "                uninfected.clear()\n",
    "            else:\n",
    "                loop = 1\n",
    "        its += 1\n",
    "    return its, popcopy"
   ]
  },
  {
   "cell_type": "code",
   "execution_count": 510,
   "metadata": {
    "scrolled": false
   },
   "outputs": [
    {
     "name": "stdout",
     "output_type": "stream",
     "text": [
      "15\n"
     ]
    },
    {
     "data": {
      "image/png": "[encoded data removed]",
      "text/plain": [
       "<Figure size 432x288 with 1 Axes>"
      ]
     },
     "metadata": {
      "needs_background": "light"
     },
     "output_type": "display_data"
    }
   ],
   "source": [
    "p = population(17,41)\n",
    "infect(p, (8, 20))\n",
    "i = nfinditeration(p, .5)[0]\n",
    "print(i)\n",
    "runinfectn(p, i)"
   ]
  },
  {
   "cell_type": "raw",
   "metadata": {},
   "source": [
    "radius iteration function:"
   ]
  },
  {
   "cell_type": "code",
   "execution_count": 382,
   "metadata": {},
   "outputs": [],
   "source": [
    "def rfinditeration(pop, perc, r):\n",
    "    \n",
    "    popcopy = pop.copy()\n",
    "    \n",
    "    its = 0\n",
    "    uninfected = []\n",
    "    lenuninfected = []\n",
    "    \n",
    "    percimmune(perc, pop)\n",
    "    \n",
    "    N = np.shape(pop)[0]\n",
    "    M = np.shape(pop)[1]\n",
    "    \n",
    "    dimpop = N * M\n",
    "    \n",
    "    loop = 0\n",
    "    while loop < 1:\n",
    "        j = 0\n",
    "        while j < M:\n",
    "            i = 0\n",
    "            while i < N:\n",
    "                if pop[i][j] == 1:\n",
    "                    uninfected.append((i,j))\n",
    "                elif pop[i][j] == 0:\n",
    "                    uninfected.append((i,j))\n",
    "                elif pop[i][j] == 2:\n",
    "                    uninfected.append((i,j))\n",
    "                i += 1\n",
    "            j += 1\n",
    "        \n",
    "        num = len(uninfected)\n",
    "        lenuninfected.append(num) \n",
    "        \n",
    "        (lenuninfected, num, unnecessaryarray) = ifduplicates(lenuninfected)\n",
    "        \n",
    "        if len(uninfected) == dimpop:\n",
    "            infect(pop, randomperson(pop))\n",
    "            lenuninfected.clear()\n",
    "        else:\n",
    "            if num > 0:\n",
    "                loop = 1\n",
    "            elif len(uninfected) > 0:\n",
    "                pop = infectradius(pop,r)\n",
    "                uninfected.clear()\n",
    "            else:\n",
    "                loop = 1\n",
    "        its += 1\n",
    "    return its, popcopy"
   ]
  },
  {
   "cell_type": "code",
   "execution_count": 511,
   "metadata": {},
   "outputs": [
    {
     "name": "stdout",
     "output_type": "stream",
     "text": [
      "28\n"
     ]
    },
    {
     "data": {
      "image/png": "[encoded data removed]",
      "text/plain": [
       "<Figure size 432x288 with 1 Axes>"
      ]
     },
     "metadata": {
      "needs_background": "light"
     },
     "output_type": "display_data"
    }
   ],
   "source": [
    "p = population(17,41)\n",
    "infect(p, (8, 20))\n",
    "i = rfinditeration(p, 0.6, 1)[0]\n",
    "print(i)\n",
    "runinfectr(p, 1, i)"
   ]
  },
  {
   "cell_type": "raw",
   "metadata": {},
   "source": [
    "function that plots percent immunized vs percent infected? or percent immunized vs iterations?\n",
    "do it in different populations, error analysis w results?\n",
    "do it with neighbor/different radii"
   ]
  },
  {
   "cell_type": "code",
   "execution_count": 139,
   "metadata": {},
   "outputs": [],
   "source": [
    "def nimmuneeffect(pop):\n",
    "    \n",
    "    N = np.shape(pop)[0]\n",
    "    M = np.shape(pop)[1]\n",
    "    \n",
    "    dimpop = N * M\n",
    "    \n",
    "    p_im = []\n",
    "    p_inf = []\n",
    "    \n",
    "    percent = 0\n",
    "\n",
    "\n",
    "    (its, popcopy) = nfinditeration(pop, percent)\n",
    "    \n",
    "    plotpop(popcopy)\n",
    "    \n",
    "    while percent < 1:\n",
    "        pop = popcopy.copy()\n",
    "        nfinditeration(pop, percent)\n",
    "        numinfected = 0\n",
    "        j = 0\n",
    "        while j < M:\n",
    "            i = 0\n",
    "            while i < N:\n",
    "                if pop[i][j] == -1:\n",
    "                    numinfected += 1\n",
    "                elif pop[i][j] == 2:\n",
    "                    numinfected += 1\n",
    "                i += 1\n",
    "            j += 1\n",
    "        inffrac = float(numinfected/dimpop)\n",
    "        p_inf.append(inffrac)\n",
    "        p_im.append(percent)\n",
    "        percent += .01\n",
    "    \n",
    "    if percent == 1:\n",
    "        p_im.append(1)\n",
    "        p_inf.append(0)\n",
    "    \n",
    "    plt.clf()\n",
    "    plt.plot(p_im, p_inf)\n",
    "    plt.title('percent immunized vs. percent infected')\n",
    "    plt.grid(True)\n",
    "    plt.show()"
   ]
  },
  {
   "cell_type": "code",
   "execution_count": 140,
   "metadata": {
    "scrolled": false
   },
   "outputs": [
    {
     "data": {
      "image/png": "[encoded data removed]",
      "text/plain": [
       "<Figure size 432x288 with 1 Axes>"
      ]
     },
     "metadata": {
      "needs_background": "light"
     },
     "output_type": "display_data"
    }
   ],
   "source": [
    "p = population(100,100)\n",
    "infect(p, (5, 5))\n",
    "nimmuneeffect(p)"
   ]
  },
  {
   "cell_type": "raw",
   "metadata": {},
   "source": [
    "seems it's right around 40% that you need vaccinated to prevent a disease from spreading to adjacent cells in this population"
   ]
  },
  {
   "cell_type": "code",
   "execution_count": 157,
   "metadata": {},
   "outputs": [],
   "source": [
    "def rimmuneeffect(pop, r):\n",
    "    \n",
    "    N = np.shape(pop)[0]\n",
    "    M = np.shape(pop)[1]\n",
    "    \n",
    "    dimpop = N * M\n",
    "    \n",
    "    p_im = []\n",
    "    p_inf = []\n",
    "    \n",
    "    percent = 0\n",
    "\n",
    "\n",
    "    (its, popcopy) = rfinditeration(pop, percent, r)\n",
    "    \n",
    "    plotpop(popcopy)\n",
    "    \n",
    "    while percent < 1:\n",
    "        pop = popcopy.copy()\n",
    "        rfinditeration(pop, percent, r)\n",
    "        numinfected = 0\n",
    "        j = 0\n",
    "        while j < M:\n",
    "            i = 0\n",
    "            while i < N:\n",
    "                if pop[i][j] == -1:\n",
    "                    numinfected += 1\n",
    "                elif pop[i][j] == 2:\n",
    "                    numinfected += 1\n",
    "                i += 1\n",
    "            j += 1\n",
    "        inffrac = float(numinfected/dimpop)\n",
    "        p_inf.append(inffrac)\n",
    "        p_im.append(percent)\n",
    "        percent += .01\n",
    "    \n",
    "    if percent == 1:\n",
    "        p_im.append(1)\n",
    "        p_inf.append(0)\n",
    "    \n",
    "    plt.clf()\n",
    "    plt.plot(p_im, p_inf)\n",
    "    plt.title('percent immunized vs. percent infected')\n",
    "    plt.grid(True)\n",
    "    plt.show()"
   ]
  },
  {
   "cell_type": "code",
   "execution_count": 161,
   "metadata": {},
   "outputs": [
    {
     "data": {
      "image/png": "[encoded data removed]",
      "text/plain": [
       "<Figure size 432x288 with 1 Axes>"
      ]
     },
     "metadata": {
      "needs_background": "light"
     },
     "output_type": "display_data"
    }
   ],
   "source": [
    "p = population(100,100)\n",
    "infect(p, (5, 5))\n",
    "rimmuneeffect(p, 5)"
   ]
  },
  {
   "cell_type": "raw",
   "metadata": {},
   "source": [
    "function that disinfects/immunizes/kills cells that have been infected for a certain number of iterations"
   ]
  },
  {
   "cell_type": "code",
   "execution_count": 426,
   "metadata": {},
   "outputs": [],
   "source": [
    "def runduplicates(array, n):\n",
    "    arraycopy = array.copy()\n",
    "    layers = 0\n",
    "    while layers < n:\n",
    "        newarray, ln, array = ifduplicates(array)\n",
    "        layers += 1\n",
    "    return arraycopy, array"
   ]
  },
  {
   "cell_type": "code",
   "execution_count": 524,
   "metadata": {},
   "outputs": [],
   "source": [
    "def ninfectrec(pop, iterations, n, immune, fatality):\n",
    "    its = 0\n",
    "    \n",
    "    infectedcells = []\n",
    "    \n",
    "    repeatinfectedcells_outsideloop = []\n",
    "    \n",
    "    while its < iterations:\n",
    "        N = np.shape(pop)[0]\n",
    "        M = np.shape(pop)[1]\n",
    "\n",
    "        #infectedcells = []\n",
    "\n",
    "        j = 0\n",
    "        while j < M:\n",
    "            i = 0\n",
    "            while i < N:\n",
    "                if pop[i][j] == -1:\n",
    "                    infectedcells.append((i,j))    \n",
    "                i += 1\n",
    "            j += 1\n",
    "        \n",
    "        infectneighbors(pop)\n",
    "        its += 1\n",
    "        \n",
    "        infectedcells, changecells = runduplicates(infectedcells, n)\n",
    "\n",
    "        newpop = pop.copy()\n",
    "        \n",
    "        for x in changecells:\n",
    "            p_x = x[0]\n",
    "            p_y = x[1]\n",
    "            val = pop[p_x][p_y]\n",
    "            if val == 2:\n",
    "                newpop = pop\n",
    "                \n",
    "            det = rng.random()\n",
    "            if det < fatality:                 #probability that someone dies\n",
    "                new_val = 2\n",
    "                newpop[p_x][p_y] = new_val\n",
    "            elif immune == True:                   #if having the disease immunizes you against it in the future\n",
    "                new_val = 0\n",
    "                newpop[p_x][p_y] = new_val\n",
    "            else:                              #ininfects a person but they're susceptible to it again\n",
    "                new_val = ((val**2))    #if val is 0, this will return 0; if it is either 1 or -1, it will return 1\n",
    "                newpop[p_x][p_y] = new_val\n",
    "\n",
    "    \n",
    "    plotpop(newpop)"
   ]
  },
  {
   "cell_type": "code",
   "execution_count": 528,
   "metadata": {},
   "outputs": [
    {
     "data": {
      "image/png": "[encoded data removed]",
      "text/plain": [
       "<Figure size 432x288 with 1 Axes>"
      ]
     },
     "metadata": {
      "needs_background": "light"
     },
     "output_type": "display_data"
    }
   ],
   "source": [
    "p = population(17,17)\n",
    "percimmune(.05, p)\n",
    "infect(p, (8, 8))\n",
    "ninfectrec(p, 5, 2, True, .5)"
   ]
  },
  {
   "cell_type": "code",
   "execution_count": 514,
   "metadata": {},
   "outputs": [],
   "source": [
    "def rinfectrec(pop, radius, iterations, n, immune, fatality):\n",
    "    its = 0\n",
    "    \n",
    "    infectedcells = []\n",
    "    \n",
    "    repeatinfectedcells_outsideloop = []\n",
    "    \n",
    "    while its < iterations:\n",
    "        N = np.shape(pop)[0]\n",
    "        M = np.shape(pop)[1]\n",
    "\n",
    "        #infectedcells = []\n",
    "\n",
    "        j = 0\n",
    "        while j < M:\n",
    "            i = 0\n",
    "            while i < N:\n",
    "                if pop[i][j] == -1:\n",
    "                    infectedcells.append((i,j))    \n",
    "                i += 1\n",
    "            j += 1\n",
    "        \n",
    "        infectradius(pop, radius)\n",
    "        its += 1\n",
    "        \n",
    "        infectedcells, changecells = runduplicates(infectedcells, n)\n",
    "\n",
    "        newpop = pop.copy()\n",
    "        \n",
    "        for x in changecells:\n",
    "            p_x = x[0]\n",
    "            p_y = x[1]\n",
    "            val = pop[p_x][p_y]\n",
    "            if val == 2:\n",
    "                newpop = pop\n",
    "                \n",
    "            det = rng.random()\n",
    "            if det < fatality:                 #probability that someone dies\n",
    "                new_val = 2\n",
    "                newpop[p_x][p_y] = new_val\n",
    "            elif immune == True:                   #if having the disease immunizes you against it in the future\n",
    "                new_val = 0\n",
    "                newpop[p_x][p_y] = new_val\n",
    "            else:                              #ininfects a person but they're susceptible to it again\n",
    "                new_val = ((val**2))    #if val is 0, this will return 0; if it is either 1 or -1, it will return 1\n",
    "                newpop[p_x][p_y] = new_val\n",
    "\n",
    "    \n",
    "    plotpop(newpop)"
   ]
  },
  {
   "cell_type": "code",
   "execution_count": 529,
   "metadata": {},
   "outputs": [
    {
     "data": {
      "image/png": "[encoded data removed]",
      "text/plain": [
       "<Figure size 432x288 with 1 Axes>"
      ]
     },
     "metadata": {
      "needs_background": "light"
     },
     "output_type": "display_data"
    }
   ],
   "source": [
    "p = population(17,17)\n",
    "percimmune(.05, p)\n",
    "infect(p, (8, 8))\n",
    "rinfectrec(p, 1, 6, 2, True, .5)"
   ]
  },
  {
   "cell_type": "raw",
   "metadata": {},
   "source": [
    "i'm actually gonna finally consolidate these two function formats lol"
   ]
  },
  {
   "cell_type": "code",
   "execution_count": 711,
   "metadata": {},
   "outputs": [],
   "source": [
    "def infectrec(pop, radius, iterations, n, immune, fatality):\n",
    "    its = 0\n",
    "    \n",
    "    infectedcells = []\n",
    "    \n",
    "    repeatinfectedcells_outsideloop = []\n",
    "    \n",
    "    while its < iterations:\n",
    "        N = np.shape(pop)[0]\n",
    "        M = np.shape(pop)[1]\n",
    "\n",
    "        j = 0\n",
    "        while j < M:\n",
    "            i = 0\n",
    "            while i < N:\n",
    "                if pop[i][j] == -1:\n",
    "                    infectedcells.append((i,j))    \n",
    "                i += 1\n",
    "            j += 1\n",
    "\n",
    "        if radius == 0:\n",
    "            infectneighbors(pop)\n",
    "        else:\n",
    "            infectradius(pop, radius)\n",
    "\n",
    "        infectedcells, changecells = runduplicates(infectedcells, n)\n",
    "\n",
    "        newpop = pop.copy()\n",
    "\n",
    "        for x in changecells:\n",
    "            p_x = x[0]\n",
    "            p_y = x[1]\n",
    "            val = pop[p_x][p_y]\n",
    "            if val == 2:\n",
    "                newpop = newpop\n",
    "            else:\n",
    "                det = rng.random()\n",
    "                if det < fatality:                 #probability that someone dies\n",
    "                    new_val = 2\n",
    "                    newpop[p_x][p_y] = new_val\n",
    "                elif immune == True:                   #if having the disease immunizes you against it in the future\n",
    "                    new_val = 0\n",
    "                    newpop[p_x][p_y] = new_val\n",
    "                else:                              #ininfects a person but they're susceptible to it again\n",
    "                    new_val = ((val**2))    #if val is 0, this will return 0; if it is either 1 or -1, it will return 1\n",
    "                    newpop[p_x][p_y] = new_val\n",
    "\n",
    "        its += 1\n",
    "\n",
    "    return(infectedcells, newpop)"
   ]
  },
  {
   "cell_type": "code",
   "execution_count": 623,
   "metadata": {
    "scrolled": false
   },
   "outputs": [
    {
     "data": {
      "text/plain": [
       "<matplotlib.image.AxesImage at 0x116d5d6d0>"
      ]
     },
     "execution_count": 623,
     "metadata": {},
     "output_type": "execute_result"
    },
    {
     "data": {
      "image/png": "[encoded data removed]",
      "text/plain": [
       "<Figure size 432x288 with 1 Axes>"
      ]
     },
     "metadata": {
      "needs_background": "light"
     },
     "output_type": "display_data"
    }
   ],
   "source": [
    "p = population(17,17)\n",
    "percimmune(.05, p)\n",
    "infect(p, (8, 8))\n",
    "x = infectrec(p, 0, 6, 2, True, .5)[1]\n",
    "plotpop(x)"
   ]
  },
  {
   "cell_type": "raw",
   "metadata": {},
   "source": [
    "cool. lets continue"
   ]
  },
  {
   "cell_type": "raw",
   "metadata": {},
   "source": [
    "time to build the monster function i want to plug things into"
   ]
  },
  {
   "cell_type": "code",
   "execution_count": 631,
   "metadata": {},
   "outputs": [
    {
     "data": {
      "text/plain": [
       "<matplotlib.image.AxesImage at 0x117ed5c50>"
      ]
     },
     "execution_count": 631,
     "metadata": {},
     "output_type": "execute_result"
    },
    {
     "data": {
      "image/png": "[encoded data removed]",
      "text/plain": [
       "<Figure size 432x288 with 1 Axes>"
      ]
     },
     "metadata": {
      "needs_background": "light"
     },
     "output_type": "display_data"
    }
   ],
   "source": [
    "p = population(30,45)\n",
    "percimmune(.5, p)\n",
    "newp = infect(p, (0, 23))\n",
    "x = infectrec(newp, 1, 25, 8, False, .05)[1]\n",
    "plotpop(x)"
   ]
  },
  {
   "cell_type": "raw",
   "metadata": {},
   "source": [
    "nice this is sick"
   ]
  },
  {
   "cell_type": "raw",
   "metadata": {},
   "source": [
    "no pun intended"
   ]
  },
  {
   "cell_type": "code",
   "execution_count": 731,
   "metadata": {},
   "outputs": [],
   "source": [
    "def recfinditeration(pop, perc, r, n, immune, fatality):\n",
    "    \n",
    "    popcopy = pop.copy()\n",
    "    \n",
    "    its = 0\n",
    "    uninfected = []\n",
    "    lenuninfected = []\n",
    "    \n",
    "    pop = percimmune(perc, pop)\n",
    "    \n",
    "    immunecopy = pop.copy()\n",
    "    \n",
    "    N = np.shape(pop)[0]\n",
    "    M = np.shape(pop)[1]\n",
    "    \n",
    "    dimpop = N * M\n",
    "    \n",
    "    previnfect = []\n",
    "    \n",
    "    loop = True\n",
    "    while loop == True:\n",
    "        its += 1\n",
    "        j = 0\n",
    "        while j < M:\n",
    "            i = 0\n",
    "            while i < N:\n",
    "                if pop[i][j] == 1:\n",
    "                    x = (i,j)\n",
    "                    if x not in previnfect:                    #an uninfected cell will only be added\n",
    "                        uninfected.append((i,j))               #to the new count if it hasn't been infected and\n",
    "                elif pop[i][j] == 0:                           #recovered\n",
    "                    x = (i,j)                                  #why did i want to do this? what was i afraid of?\n",
    "                    if x not in previnfect:\n",
    "                        previnfect.append((i,j))\n",
    "                elif pop[i][j] == 2:\n",
    "                    x = (i,j) \n",
    "                    if x not in previnfect:\n",
    "                        previnfect.append((i,j))\n",
    "                elif pop[i][j] == -1:\n",
    "                    x = (i,j) \n",
    "                    if x not in previnfect:\n",
    "                        previnfect.append((i,j))\n",
    "                i += 1\n",
    "            j += 1\n",
    "        \n",
    "        a = len(uninfected)\n",
    "        lenuninfected.append(a) \n",
    "        \n",
    "        #not changing lenuninfected, getting number of values in lenuninfected that repeat\n",
    "        #aka the number of times the population has had the same number of uninfected people\n",
    "        \n",
    "        (lenuninfected, num, arrayofuninfectednumbers) = ifduplicates(lenuninfected)\n",
    "        \n",
    "        if len(uninfected) == dimpop:             #if the uninf count that resets each time includes everyone\n",
    "            people = []                           #this should indicate that everyone is uninfected\n",
    "            loop2 = True                          #ooo then this should include formerly infected ppl hmmm\n",
    "            while loop2 == True:\n",
    "                sumpop_1 = sumpop(pop)\n",
    "                person = randomperson(pop)\n",
    "                if person not in people:\n",
    "                    people.append(person)\n",
    "                    infect(pop, randomperson(pop))\n",
    "                    sumpop_2 = sumpop(pop)\n",
    "                    diff = sumpop_1 - sumpop_2\n",
    "                    if diff == 0:\n",
    "                        loop2 = True\n",
    "                    else:\n",
    "                        loop2 = False\n",
    "                elif person in people:\n",
    "                    if len(people) == dimpop:            #if you've checked everyone and they can't be infected\n",
    "                        print(\"infection gone\")          #!!!\n",
    "                        return its, popcopy, immunecopy  #end function\n",
    "                    else:\n",
    "                        loop2 = True\n",
    "            lenuninfected.clear()\n",
    "        else:\n",
    "            if num > 0:\n",
    "                loop = False\n",
    "            elif len(uninfected) > 0:\n",
    "                infectedcells, pop = infectrec(pop,r,its,n,immune,fatality)\n",
    "                print(\"new number of infected cells = \", len(infectedcells), \"\\npop =\\n\", pop)\n",
    "                uninfected.clear()\n",
    "            else:\n",
    "                loop = False\n",
    "    print(\"num =\", num)\n",
    "    return its, popcopy, immunecopy"
   ]
  },
  {
   "cell_type": "code",
   "execution_count": 725,
   "metadata": {
    "scrolled": false
   },
   "outputs": [
    {
     "name": "stdout",
     "output_type": "stream",
     "text": [
      "new number of infected cells =  0 \n",
      "pop =\n",
      " [[1 0 1 ... 1 0 0]\n",
      " [0 1 1 ... 1 0 1]\n",
      " [0 1 1 ... 1 1 0]\n",
      " ...\n",
      " [1 1 1 ... 1 0 0]\n",
      " [1 0 1 ... 0 1 1]\n",
      " [0 0 0 ... 1 1 1]]\n",
      "num = 1\n",
      "2\n",
      "[]\n"
     ]
    },
    {
     "data": {
      "image/png": "[encoded data removed]",
      "text/plain": [
       "<Figure size 432x288 with 1 Axes>"
      ]
     },
     "metadata": {
      "needs_background": "light"
     },
     "output_type": "display_data"
    }
   ],
   "source": [
    "p = population(30,45)\n",
    "\n",
    "perc = .5\n",
    "r = 1\n",
    "n = 3\n",
    "immune = False\n",
    "fatality = 1\n",
    "\n",
    "its, p, newp = recfinditeration(p, perc, r, n, immune, fatality)\n",
    "print(its)\n",
    "plotpop(newp) #should be healthy and immune cells\n",
    "\n",
    "cells, fpop = infectrec(newp, r, its, n, immune, fatality)\n",
    "#plotpop(fpop)\n",
    "print(cells)"
   ]
  },
  {
   "cell_type": "raw",
   "metadata": {},
   "source": [
    "why is every cell healthy ugh they should be dead wtf"
   ]
  },
  {
   "cell_type": "code",
   "execution_count": 694,
   "metadata": {},
   "outputs": [
    {
     "data": {
      "text/plain": [
       "<matplotlib.image.AxesImage at 0x12d2a1f10>"
      ]
     },
     "execution_count": 694,
     "metadata": {},
     "output_type": "execute_result"
    },
    {
     "data": {
      "image/png": "[encoded data removed]",
      "text/plain": [
       "<Figure size 432x288 with 1 Axes>"
      ]
     },
     "metadata": {
      "needs_background": "light"
     },
     "output_type": "display_data"
    },
    {
     "data": {
      "image/png": "[encoded data removed]",
      "text/plain": [
       "<Figure size 432x288 with 1 Axes>"
      ]
     },
     "metadata": {
      "needs_background": "light"
     },
     "output_type": "display_data"
    }
   ],
   "source": [
    "p = population(30,45)\n",
    "percimmune(.05, p)\n",
    "plotpop(p)\n",
    "infect(p, (0, 22))\n",
    "infectedcells, newp = infectrec(p,1,41,8,True,0.5)\n",
    "plotpop(newp)"
   ]
  },
  {
   "cell_type": "code",
   "execution_count": null,
   "metadata": {},
   "outputs": [],
   "source": []
  }
 ],
 "metadata": {
  "kernelspec": {
   "display_name": "Python 3",
   "language": "python",
   "name": "python3"
  },
  "language_info": {
   "codemirror_mode": {
    "name": "ipython",
    "version": 3
   },
   "file_extension": ".py",
   "mimetype": "text/x-python",
   "name": "python",
   "nbconvert_exporter": "python",
   "pygments_lexer": "ipython3",
   "version": "3.7.5"
  }
 },
 "nbformat": 4,
 "nbformat_minor": 2
}
