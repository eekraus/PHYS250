{
 "cells": [
  {
   "cell_type": "code",
   "execution_count": 447,
   "metadata": {},
   "outputs": [],
   "source": [
    "import numpy as np\n",
    "import matplotlib\n",
    "import matplotlib.pyplot as plt\n",
    "from numpy import random as rng\n",
    "from matplotlib import cm\n",
    "from matplotlib.colors import ListedColormap, LinearSegmentedColormap"
   ]
  },
  {
   "cell_type": "raw",
   "metadata": {},
   "source": [
    "function to create a population of a certain size and value"
   ]
  },
  {
   "cell_type": "code",
   "execution_count": 183,
   "metadata": {},
   "outputs": [],
   "source": [
    "def population(N, M, value=1):\n",
    "    lattice = (value, (N,M))\n",
    "    return np.full((N, M), value)"
   ]
  },
  {
   "cell_type": "raw",
   "metadata": {},
   "source": [
    "function to visualize a population"
   ]
  },
  {
   "cell_type": "code",
   "execution_count": 494,
   "metadata": {},
   "outputs": [],
   "source": [
    "def plotpop(population, left=0, right=0, bottom=0, top=0): #add value to axes\n",
    "    fig, ax = plt.subplots()\n",
    "    \n",
    "    cmap = plt.cm.ocean\n",
    "    norm = plt.Normalize(-1, 1) #i will only have 3 values, so they'll always be the same colors\n",
    "    rgba = cmap(norm(data))\n",
    "    \n",
    "    im = ax.imshow(population, cmap=cmap, norm=norm, aspect = 'equal')\n",
    "    return im"
   ]
  },
  {
   "cell_type": "markdown",
   "metadata": {},
   "source": [
    "A normal population is going to be 1s, immunized will be 0s, infected will be -1s"
   ]
  },
  {
   "cell_type": "raw",
   "metadata": {},
   "source": [
    "function to choose a random person"
   ]
  },
  {
   "cell_type": "code",
   "execution_count": 185,
   "metadata": {},
   "outputs": [],
   "source": [
    "def randomperson(population):\n",
    "    #make one variable x the width of the lattice: x = np.shape(lattice)[0]\n",
    "    #make one variable y the height of the lattice: y = np.shape(lattice)[1]\n",
    "    #rn_x is a random integer from 0 to x: rn_x = rng.randint(0,x)\n",
    "    #rn_y is a random integer from 0 to y: rn_y = rng.randint(0,y)\n",
    "    #define (rn_x, rn_y) in lattice: particle = lattice[rn_x, rn_y]\n",
    "    x = np.shape(population)[0]\n",
    "    y = np.shape(population)[1]\n",
    "    rn_x = rng.randint(0,x)\n",
    "    rn_y = rng.randint(0,y)\n",
    "    person = (rn_x, rn_y)\n",
    "    return person"
   ]
  },
  {
   "cell_type": "raw",
   "metadata": {},
   "source": [
    "function to set a person's value to 0, return new population"
   ]
  },
  {
   "cell_type": "code",
   "execution_count": 186,
   "metadata": {},
   "outputs": [],
   "source": [
    "def immunize(population, person):\n",
    "    new_val = 0\n",
    "    population[person] = new_val\n",
    "    return population"
   ]
  },
  {
   "cell_type": "raw",
   "metadata": {},
   "source": [
    "function to immunize a given percentage of a population"
   ]
  },
  {
   "cell_type": "code",
   "execution_count": 187,
   "metadata": {},
   "outputs": [],
   "source": [
    "def percimmune(perc, population):\n",
    "    N = np.shape(population)[0]\n",
    "    M = np.shape(population)[1]\n",
    "    popdim = N * M\n",
    "    numimmune = int(perc * popdim)\n",
    "    i = 0\n",
    "    while i < numimmune:\n",
    "        r = randomperson(population)\n",
    "        while population[r] == 0:\n",
    "            r = randomperson(population)\n",
    "        population = immunize(population, r)\n",
    "        i += 1\n",
    "    return population"
   ]
  },
  {
   "cell_type": "code",
   "execution_count": 486,
   "metadata": {},
   "outputs": [
    {
     "data": {
      "text/plain": [
       "<matplotlib.image.AxesImage at 0x11537c690>"
      ]
     },
     "execution_count": 486,
     "metadata": {},
     "output_type": "execute_result"
    },
    {
     "data": {
      "image/png": "[encoded data removed]",
      "text/plain": [
       "<Figure size 432x288 with 1 Axes>"
      ]
     },
     "metadata": {
      "needs_background": "light"
     },
     "output_type": "display_data"
    }
   ],
   "source": [
    "p = population(100,100)\n",
    "newp = percimmune(.05, p)\n",
    "plotpop(newp)"
   ]
  },
  {
   "cell_type": "raw",
   "metadata": {},
   "source": [
    "function to copy population bc i need this apparently"
   ]
  },
  {
   "cell_type": "code",
   "execution_count": 189,
   "metadata": {},
   "outputs": [],
   "source": [
    "def copypopulation(population):\n",
    "    lattice = population\n",
    "    return lattice"
   ]
  },
  {
   "cell_type": "raw",
   "metadata": {},
   "source": [
    "function to infect a person"
   ]
  },
  {
   "cell_type": "code",
   "execution_count": 190,
   "metadata": {},
   "outputs": [],
   "source": [
    "def infect(population, person):\n",
    "    val = population[person]\n",
    "    new_val = ((val**2) * -1)    #if val is 0, this will return 0; if it is either 1 or -1, it will return -1\n",
    "    newpop = copypopulation(population)\n",
    "    newpop[person] = new_val\n",
    "    return newpop"
   ]
  },
  {
   "cell_type": "raw",
   "metadata": {},
   "source": [
    "function to infect all adjacent cells to an infected cell"
   ]
  },
  {
   "cell_type": "code",
   "execution_count": 359,
   "metadata": {},
   "outputs": [],
   "source": [
    "def infectneighbors(pop):\n",
    "    \n",
    "    bound_x = np.shape(pop)[0] - 1\n",
    "    bound_y = np.shape(pop)[1] - 1\n",
    "    \n",
    "    N = np.shape(pop)[0]\n",
    "    M = np.shape(pop)[1]\n",
    "\n",
    "    newpop = copypopulation(pop)\n",
    "    \n",
    "    infectedcells = []\n",
    "    \n",
    "    j = 0\n",
    "    while j < M:\n",
    "        i = 0\n",
    "        while i < N:\n",
    "            cell = (i, j)\n",
    "            if pop[cell] == -1:\n",
    "                infectedcells.append(cell)    \n",
    "            i += 1\n",
    "        j += 1\n",
    "\n",
    "    for (i,j) in infectedcells:\n",
    "        if i == 0:\n",
    "            person = (i+1, j)\n",
    "            newpop = infect(newpop, person)\n",
    "        elif i == bound_x:\n",
    "            person = (i-1, j)\n",
    "            newpop = infect(newpop, person)\n",
    "        else: #i in between\n",
    "            person1 = (i-1, j)\n",
    "            newpop = infect(newpop, person1)\n",
    "            person2 = i+1, j\n",
    "            newpop = infect(newpop, person2)\n",
    "        if j == 0:\n",
    "            person = (i, j+1)\n",
    "            newpop = infect(newpop, person)\n",
    "        elif j == bound_y:\n",
    "            person = (i, j-1)\n",
    "            newpop = infect(newpop, person)\n",
    "        else: #j in between\n",
    "            person1 = (i, j-1)\n",
    "            newpop = infect(newpop, person1)\n",
    "            person2 = (i, j+1)\n",
    "            newpop = infect(newpop, person2)\n",
    "\n",
    "    return newpop"
   ]
  },
  {
   "cell_type": "raw",
   "metadata": {},
   "source": [
    "function to infect all cells within a certain square radius of an infected cell"
   ]
  },
  {
   "cell_type": "code",
   "execution_count": 360,
   "metadata": {},
   "outputs": [],
   "source": [
    "def infectradius(pop, radius):\n",
    "    r = radius + 1\n",
    "    \n",
    "    bound_x = np.shape(pop)[0] - 1\n",
    "    bound_y = np.shape(pop)[1] - 1\n",
    "    \n",
    "    N = np.shape(pop)[0]\n",
    "    M = np.shape(pop)[1]\n",
    "\n",
    "    newpop = copypopulation(pop)\n",
    "    \n",
    "    infectedcells = []\n",
    "    j = 0\n",
    "    while j < M:\n",
    "        i = 0\n",
    "        while i < N:\n",
    "            cell = (i, j)\n",
    "            if pop[cell] == -1:\n",
    "                infectedcells.append(cell)    \n",
    "            i += 1\n",
    "        j += 1\n",
    "\n",
    "    for (i,j) in infectedcells:\n",
    "        if i == 0:\n",
    "            if j == 0:\n",
    "                for k in range(r):\n",
    "                    for l in range(r):\n",
    "                        person = (i+k, j+l)\n",
    "                        newpop = infect(newpop, person)\n",
    "            elif j == bound_y:\n",
    "                for k in range(r):\n",
    "                    for l in range(r):\n",
    "                        person = (i+k, j-l)\n",
    "                        newpop = infect(newpop, person)\n",
    "            else: #j in between\n",
    "                for k in range(r):\n",
    "                    for l in range(r):\n",
    "                        person1 = (i+k, j-l)\n",
    "                        newpop = infect(newpop, person1)\n",
    "                        person2 = (i+k, j+l)\n",
    "                        newpop = infect(newpop, person2)\n",
    "        elif i == bound_x:\n",
    "            if j == 0:\n",
    "                for k in range(r):\n",
    "                    for l in range(r):\n",
    "                        person = (i-k, j+l)\n",
    "                        newpop = infect(newpop, person)\n",
    "            elif j == bound_y:\n",
    "                for k in range(r):\n",
    "                    for l in range(r):\n",
    "                        person = (i-k, j-l)\n",
    "                        newpop = infect(newpop, person)\n",
    "            else: #j in between\n",
    "                for k in range(r):\n",
    "                    for l in range(r):\n",
    "                        person1 = (i-k, j-l)\n",
    "                        newpop = infect(newpop, person1)\n",
    "                        person2 = (i-k, j+l)\n",
    "                        newpop = infect(newpop, person2)\n",
    "        else: #i in between\n",
    "            if j == 0:\n",
    "                for k in range(r):\n",
    "                    for l in range(r):\n",
    "                        person1 = (i-k, j+l)\n",
    "                        newpop = infect(newpop, person1)\n",
    "                        person2 = (i+k, j+l)\n",
    "                        newpop = infect(newpop, person2)\n",
    "            elif j == bound_y:\n",
    "                for k in range(r):\n",
    "                    for l in range(r):\n",
    "                        person1 = (i-k, j-l)\n",
    "                        newpop = infect(newpop, person1)\n",
    "                        person2 = (i+k, j-l)\n",
    "                        newpop = infect(newpop, person2)\n",
    "            else: #j in between\n",
    "                for k in range(r):\n",
    "                    for l in range(r):\n",
    "                        person1 = (i-k, j-l)\n",
    "                        newpop = infect(newpop, person1)\n",
    "                        person2 = (i-k, j+l)\n",
    "                        newpop = infect(newpop, person2)\n",
    "                        person3 = (i+k, j-l)\n",
    "                        newpop = infect(newpop, person3)\n",
    "                        person4 = (i+k, j+l)\n",
    "                        newpop = infect(newpop, person4)\n",
    "\n",
    "    return newpop"
   ]
  },
  {
   "cell_type": "raw",
   "metadata": {},
   "source": [
    "the first function infects only neighbors, producing a cross:"
   ]
  },
  {
   "cell_type": "code",
   "execution_count": 487,
   "metadata": {
    "scrolled": false
   },
   "outputs": [
    {
     "data": {
      "text/plain": [
       "<matplotlib.image.AxesImage at 0x11555a710>"
      ]
     },
     "execution_count": 487,
     "metadata": {},
     "output_type": "execute_result"
    },
    {
     "data": {
      "image/png": "[encoded data removed]",
      "text/plain": [
       "<Figure size 432x288 with 1 Axes>"
      ]
     },
     "metadata": {
      "needs_background": "light"
     },
     "output_type": "display_data"
    }
   ],
   "source": [
    "p = population(30,45)\n",
    "percimmune(.05, p)\n",
    "newp = infect(p, (15, 23))\n",
    "infectneighbors(newp)\n",
    "plotpop(newp)"
   ]
  },
  {
   "cell_type": "raw",
   "metadata": {},
   "source": [
    "whereas the second produces a square. for comparison, here is the same(ish) population run with a radius of 1:"
   ]
  },
  {
   "cell_type": "code",
   "execution_count": 488,
   "metadata": {},
   "outputs": [
    {
     "data": {
      "text/plain": [
       "<matplotlib.image.AxesImage at 0x11588e890>"
      ]
     },
     "execution_count": 488,
     "metadata": {},
     "output_type": "execute_result"
    },
    {
     "data": {
      "image/png": "[encoded data removed]",
      "text/plain": [
       "<Figure size 432x288 with 1 Axes>"
      ]
     },
     "metadata": {
      "needs_background": "light"
     },
     "output_type": "display_data"
    }
   ],
   "source": [
    "p = population(30,45)\n",
    "percimmune(.05, p)\n",
    "newp = infect(p, (15, 23))\n",
    "infectradius(newp, 1)\n",
    "plotpop(newp)"
   ]
  },
  {
   "cell_type": "raw",
   "metadata": {},
   "source": [
    "function to run infection a given number of times"
   ]
  },
  {
   "cell_type": "code",
   "execution_count": 209,
   "metadata": {},
   "outputs": [],
   "source": [
    "def runinfectn(pop, iterations):\n",
    "    i = 0\n",
    "    while i < iterations:\n",
    "        infectneighbors(pop)\n",
    "        i += 1\n",
    "    plotpop(pop)"
   ]
  },
  {
   "cell_type": "code",
   "execution_count": 489,
   "metadata": {},
   "outputs": [
    {
     "data": {
      "image/png": "[encoded data removed]",
      "text/plain": [
       "<Figure size 432x288 with 1 Axes>"
      ]
     },
     "metadata": {
      "needs_background": "light"
     },
     "output_type": "display_data"
    }
   ],
   "source": [
    "p = population(30,45)\n",
    "percimmune(.5, p)\n",
    "newp = infect(p, (0, 23))\n",
    "runinfectn(newp, 20)"
   ]
  },
  {
   "cell_type": "code",
   "execution_count": 197,
   "metadata": {},
   "outputs": [],
   "source": [
    "def runinfectr(pop, radius, iterations):\n",
    "    i = 0\n",
    "    while i < iterations:\n",
    "        infectradius(pop, radius)\n",
    "        i += 1\n",
    "    plotpop(pop)"
   ]
  },
  {
   "cell_type": "code",
   "execution_count": 491,
   "metadata": {},
   "outputs": [
    {
     "data": {
      "image/png": "[encoded data removed]",
      "text/plain": [
       "<Figure size 432x288 with 1 Axes>"
      ]
     },
     "metadata": {
      "needs_background": "light"
     },
     "output_type": "display_data"
    }
   ],
   "source": [
    "p = population(30,45)\n",
    "percimmune(.5, p)\n",
    "newp = infect(p, (0, 23))\n",
    "runinfectr(newp, 1, 25)"
   ]
  },
  {
   "cell_type": "raw",
   "metadata": {},
   "source": [
    "function that factors in time to spread of infection in order to incorporate contagion factor?"
   ]
  },
  {
   "cell_type": "raw",
   "metadata": {},
   "source": [
    "function that runs infection until everyone is either vaccinated or infected or the infection is contained"
   ]
  },
  {
   "cell_type": "code",
   "execution_count": 386,
   "metadata": {},
   "outputs": [],
   "source": [
    "def ifduplicates(array):\n",
    "\n",
    "    arraycopy = []\n",
    "    \n",
    "    for x in array:\n",
    "        arraycopy.append(x)\n",
    "    \n",
    "    newarray = []\n",
    "    for x in array:\n",
    "        if x not in newarray:\n",
    "            newarray.append(x)\n",
    "    for y in newarray:\n",
    "        array.remove(y)\n",
    "\n",
    "    if len(array) == 0:\n",
    "        return arraycopy, 0\n",
    "    else:\n",
    "        return arraycopy, len(array)\n",
    "    \n"
   ]
  },
  {
   "cell_type": "code",
   "execution_count": 387,
   "metadata": {},
   "outputs": [
    {
     "data": {
      "text/plain": [
       "([8, 6, 3, 2, 1, 1, 1], 2)"
      ]
     },
     "execution_count": 387,
     "metadata": {},
     "output_type": "execute_result"
    }
   ],
   "source": [
    "array = [8, 6, 3, 2, 1, 1, 1]\n",
    "ifduplicates(array)\n",
    "#print(array)"
   ]
  },
  {
   "cell_type": "code",
   "execution_count": 431,
   "metadata": {
    "scrolled": true
   },
   "outputs": [],
   "source": [
    "def finditeration(pop, perc):\n",
    "    its = 0\n",
    "    healthycells = []\n",
    "    lenhealthycells = []\n",
    "    percimmune(perc, pop)\n",
    "    \n",
    "    N = np.shape(pop)[0]\n",
    "    M = np.shape(pop)[1]\n",
    "    \n",
    "    dimpop = N * M\n",
    "    \n",
    "    loop = 0\n",
    "    while loop < 1:\n",
    "        plotpop(pop)\n",
    "        j = 0\n",
    "        while j < M:\n",
    "            i = 0\n",
    "            while i < N:\n",
    "                cell = (i, j)\n",
    "                if pop[cell] == 1:\n",
    "                    healthycells.append(cell)\n",
    "                elif pop[cell] == 0:\n",
    "                    healthycells.append(cell)\n",
    "                i += 1\n",
    "            j += 1\n",
    "        \n",
    "        num = len(healthycells)\n",
    "        lenhealthycells.append(num) \n",
    "        print(\"adding\", len(healthycells), \"to lenhealthycells\")\n",
    "        print(\"lenhealthycells =\", lenhealthycells)\n",
    "        \n",
    "        (lenhealthycells, num) = ifduplicates(lenhealthycells)\n",
    "        \n",
    "        if len(healthycells) == dimpop:\n",
    "            print(\"infecting patient 0 :P\")\n",
    "            infect(pop, randomperson(pop))\n",
    "            lenhealthycells.clear()\n",
    "        else:\n",
    "            if num > 0: #LOOP ONE\n",
    "                loop = 1\n",
    "                print(\"RAN LOOP ONE // lenhealthycells has duplicates:\", \"LHC =\", lenhealthycells)\n",
    "            elif len(healthycells) > 0: #LOOP TWO\n",
    "                print(\"RAN LOOP TWO // number of healthy cells =\", len(healthycells), \"infecting more, clearing array,\", \"lenhealthycells = \", lenhealthycells)\n",
    "                pop = infectneighbors(pop)\n",
    "                healthycells.clear()\n",
    "            else: # LOOP THREE\n",
    "                loop = 1\n",
    "                print(\"RAN LOOP THREE // went else exit\")\n",
    "        its += 1\n",
    "        print(\"LOOP STARTING OVER\")\n",
    "    return its"
   ]
  },
  {
   "cell_type": "code",
   "execution_count": 493,
   "metadata": {
    "scrolled": false
   },
   "outputs": [
    {
     "name": "stdout",
     "output_type": "stream",
     "text": [
      "adding 77 to lenhealthycells\n",
      "lenhealthycells = [77]\n",
      "infecting patient 0 :P\n",
      "LOOP STARTING OVER\n",
      "adding 153 to lenhealthycells\n",
      "lenhealthycells = [153]\n",
      "RAN LOOP TWO // number of healthy cells = 153 infecting more, clearing array, lenhealthycells =  [153]\n",
      "LOOP STARTING OVER\n",
      "adding 74 to lenhealthycells\n",
      "lenhealthycells = [153, 74]\n",
      "RAN LOOP TWO // number of healthy cells = 74 infecting more, clearing array, lenhealthycells =  [153, 74]\n",
      "LOOP STARTING OVER\n",
      "adding 71 to lenhealthycells\n",
      "lenhealthycells = [153, 74, 71]\n",
      "RAN LOOP TWO // number of healthy cells = 71 infecting more, clearing array, lenhealthycells =  [153, 74, 71]\n",
      "LOOP STARTING OVER\n",
      "adding 67 to lenhealthycells\n",
      "lenhealthycells = [153, 74, 71, 67]\n",
      "RAN LOOP TWO // number of healthy cells = 67 infecting more, clearing array, lenhealthycells =  [153, 74, 71, 67]\n",
      "LOOP STARTING OVER\n",
      "adding 64 to lenhealthycells\n",
      "lenhealthycells = [153, 74, 71, 67, 64]\n",
      "RAN LOOP TWO // number of healthy cells = 64 infecting more, clearing array, lenhealthycells =  [153, 74, 71, 67, 64]\n",
      "LOOP STARTING OVER\n",
      "adding 59 to lenhealthycells\n",
      "lenhealthycells = [153, 74, 71, 67, 64, 59]\n",
      "RAN LOOP TWO // number of healthy cells = 59 infecting more, clearing array, lenhealthycells =  [153, 74, 71, 67, 64, 59]\n",
      "LOOP STARTING OVER\n",
      "adding 54 to lenhealthycells\n",
      "lenhealthycells = [153, 74, 71, 67, 64, 59, 54]\n",
      "RAN LOOP TWO // number of healthy cells = 54 infecting more, clearing array, lenhealthycells =  [153, 74, 71, 67, 64, 59, 54]\n",
      "LOOP STARTING OVER\n",
      "adding 49 to lenhealthycells\n",
      "lenhealthycells = [153, 74, 71, 67, 64, 59, 54, 49]\n",
      "RAN LOOP TWO // number of healthy cells = 49 infecting more, clearing array, lenhealthycells =  [153, 74, 71, 67, 64, 59, 54, 49]\n",
      "LOOP STARTING OVER\n",
      "adding 44 to lenhealthycells\n",
      "lenhealthycells = [153, 74, 71, 67, 64, 59, 54, 49, 44]\n",
      "RAN LOOP TWO // number of healthy cells = 44 infecting more, clearing array, lenhealthycells =  [153, 74, 71, 67, 64, 59, 54, 49, 44]\n",
      "LOOP STARTING OVER\n",
      "adding 38 to lenhealthycells\n",
      "lenhealthycells = [153, 74, 71, 67, 64, 59, 54, 49, 44, 38]\n",
      "RAN LOOP TWO // number of healthy cells = 38 infecting more, clearing array, lenhealthycells =  [153, 74, 71, 67, 64, 59, 54, 49, 44, 38]\n",
      "LOOP STARTING OVER\n",
      "adding 33 to lenhealthycells\n",
      "lenhealthycells = [153, 74, 71, 67, 64, 59, 54, 49, 44, 38, 33]\n",
      "RAN LOOP TWO // number of healthy cells = 33 infecting more, clearing array, lenhealthycells =  [153, 74, 71, 67, 64, 59, 54, 49, 44, 38, 33]\n",
      "LOOP STARTING OVER\n",
      "adding 31 to lenhealthycells\n",
      "lenhealthycells = [153, 74, 71, 67, 64, 59, 54, 49, 44, 38, 33, 31]\n",
      "RAN LOOP TWO // number of healthy cells = 31 infecting more, clearing array, lenhealthycells =  [153, 74, 71, 67, 64, 59, 54, 49, 44, 38, 33, 31]\n",
      "LOOP STARTING OVER\n",
      "adding 28 to lenhealthycells\n",
      "lenhealthycells = [153, 74, 71, 67, 64, 59, 54, 49, 44, 38, 33, 31, 28]\n",
      "RAN LOOP TWO // number of healthy cells = 28 infecting more, clearing array, lenhealthycells =  [153, 74, 71, 67, 64, 59, 54, 49, 44, 38, 33, 31, 28]\n",
      "LOOP STARTING OVER\n",
      "adding 24 to lenhealthycells\n",
      "lenhealthycells = [153, 74, 71, 67, 64, 59, 54, 49, 44, 38, 33, 31, 28, 24]\n",
      "RAN LOOP TWO // number of healthy cells = 24 infecting more, clearing array, lenhealthycells =  [153, 74, 71, 67, 64, 59, 54, 49, 44, 38, 33, 31, 28, 24]\n",
      "LOOP STARTING OVER\n",
      "adding 19 to lenhealthycells\n",
      "lenhealthycells = [153, 74, 71, 67, 64, 59, 54, 49, 44, 38, 33, 31, 28, 24, 19]\n",
      "RAN LOOP TWO // number of healthy cells = 19 infecting more, clearing array, lenhealthycells =  [153, 74, 71, 67, 64, 59, 54, 49, 44, 38, 33, 31, 28, 24, 19]\n",
      "LOOP STARTING OVER\n",
      "adding 16 to lenhealthycells\n",
      "lenhealthycells = [153, 74, 71, 67, 64, 59, 54, 49, 44, 38, 33, 31, 28, 24, 19, 16]\n",
      "RAN LOOP TWO // number of healthy cells = 16 infecting more, clearing array, lenhealthycells =  [153, 74, 71, 67, 64, 59, 54, 49, 44, 38, 33, 31, 28, 24, 19, 16]\n",
      "LOOP STARTING OVER\n",
      "adding 15 to lenhealthycells\n",
      "lenhealthycells = [153, 74, 71, 67, 64, 59, 54, 49, 44, 38, 33, 31, 28, 24, 19, 16, 15]\n",
      "RAN LOOP TWO // number of healthy cells = 15 infecting more, clearing array, lenhealthycells =  [153, 74, 71, 67, 64, 59, 54, 49, 44, 38, 33, 31, 28, 24, 19, 16, 15]\n",
      "LOOP STARTING OVER\n",
      "adding 15 to lenhealthycells\n",
      "lenhealthycells = [153, 74, 71, 67, 64, 59, 54, 49, 44, 38, 33, 31, 28, 24, 19, 16, 15, 15]\n",
      "RAN LOOP ONE // lenhealthycells has duplicates: LHC = [153, 74, 71, 67, 64, 59, 54, 49, 44, 38, 33, 31, 28, 24, 19, 16, 15, 15]\n",
      "LOOP STARTING OVER\n",
      "19\n"
     ]
    },
    {
     "data": {
      "image/png": "[encoded data removed]",
      "text/plain": [
       "<Figure size 432x288 with 1 Axes>"
      ]
     },
     "metadata": {
      "needs_background": "light"
     },
     "output_type": "display_data"
    },
    {
     "data": {
      "image/png": "[encoded data removed]",
      "text/plain": [
       "<Figure size 432x288 with 1 Axes>"
      ]
     },
     "metadata": {
      "needs_background": "light"
     },
     "output_type": "display_data"
    },
    {
     "data": {
      "image/png": "[encoded data removed]",
      "text/plain": [
       "<Figure size 432x288 with 1 Axes>"
      ]
     },
     "metadata": {
      "needs_background": "light"
     },
     "output_type": "display_data"
    },
    {
     "data": {
      "image/png": "[encoded data removed]",
      "text/plain": [
       "<Figure size 432x288 with 1 Axes>"
      ]
     },
     "metadata": {
      "needs_background": "light"
     },
     "output_type": "display_data"
    },
    {
     "data": {
      "image/png": "[encoded data removed]",
      "text/plain": [
       "<Figure size 432x288 with 1 Axes>"
      ]
     },
     "metadata": {
      "needs_background": "light"
     },
     "output_type": "display_data"
    },
    {
     "data": {
      "image/png": "[encoded data removed]",
      "text/plain": [
       "<Figure size 432x288 with 1 Axes>"
      ]
     },
     "metadata": {
      "needs_background": "light"
     },
     "output_type": "display_data"
    },
    {
     "data": {
      "image/png": "[encoded data removed]",
      "text/plain": [
       "<Figure size 432x288 with 1 Axes>"
      ]
     },
     "metadata": {
      "needs_background": "light"
     },
     "output_type": "display_data"
    },
    {
     "data": {
      "image/png": "[encoded data removed]",
      "text/plain": [
       "<Figure size 432x288 with 1 Axes>"
      ]
     },
     "metadata": {
      "needs_background": "light"
     },
     "output_type": "display_data"
    },
    {
     "data": {
      "image/png": "[encoded data removed]",
      "text/plain": [
       "<Figure size 432x288 with 1 Axes>"
      ]
     },
     "metadata": {
      "needs_background": "light"
     },
     "output_type": "display_data"
    },
    {
     "data": {
      "image/png": "[encoded data removed]",
      "text/plain": [
       "<Figure size 432x288 with 1 Axes>"
      ]
     },
     "metadata": {
      "needs_background": "light"
     },
     "output_type": "display_data"
    },
    {
     "data": {
      "image/png": "[encoded data removed]",
      "text/plain": [
       "<Figure size 432x288 with 1 Axes>"
      ]
     },
     "metadata": {
      "needs_background": "light"
     },
     "output_type": "display_data"
    },
    {
     "data": {
      "image/png": "[encoded data removed]",
      "text/plain": [
       "<Figure size 432x288 with 1 Axes>"
      ]
     },
     "metadata": {
      "needs_background": "light"
     },
     "output_type": "display_data"
    },
    {
     "data": {
      "image/png": "[encoded data removed]",
      "text/plain": [
       "<Figure size 432x288 with 1 Axes>"
      ]
     },
     "metadata": {
      "needs_background": "light"
     },
     "output_type": "display_data"
    },
    {
     "data": {
      "image/png": "[encoded data removed]",
      "text/plain": [
       "<Figure size 432x288 with 1 Axes>"
      ]
     },
     "metadata": {
      "needs_background": "light"
     },
     "output_type": "display_data"
    },
    {
     "data": {
      "image/png": "[encoded data removed]",
      "text/plain": [
       "<Figure size 432x288 with 1 Axes>"
      ]
     },
     "metadata": {
      "needs_background": "light"
     },
     "output_type": "display_data"
    },
    {
     "data": {
      "image/png": "[encoded data removed]",
      "text/plain": [
       "<Figure size 432x288 with 1 Axes>"
      ]
     },
     "metadata": {
      "needs_background": "light"
     },
     "output_type": "display_data"
    },
    {
     "data": {
      "image/png": "[encoded data removed]",
      "text/plain": [
       "<Figure size 432x288 with 1 Axes>"
      ]
     },
     "metadata": {
      "needs_background": "light"
     },
     "output_type": "display_data"
    },
    {
     "data": {
      "image/png": "[encoded data removed]",
      "text/plain": [
       "<Figure size 432x288 with 1 Axes>"
      ]
     },
     "metadata": {
      "needs_background": "light"
     },
     "output_type": "display_data"
    },
    {
     "data": {
      "image/png": "[encoded data removed]",
      "text/plain": [
       "<Figure size 432x288 with 1 Axes>"
      ]
     },
     "metadata": {
      "needs_background": "light"
     },
     "output_type": "display_data"
    }
   ],
   "source": [
    "p = population(7,11)\n",
    "infect(p, (3, 5))\n",
    "i = finditeration(p, 0.2)\n",
    "print(i)\n",
    "#runinfectn(p, i)"
   ]
  },
  {
   "cell_type": "code",
   "execution_count": null,
   "metadata": {},
   "outputs": [],
   "source": []
  }
 ],
 "metadata": {
  "kernelspec": {
   "display_name": "Python 3",
   "language": "python",
   "name": "python3"
  },
  "language_info": {
   "codemirror_mode": {
    "name": "ipython",
    "version": 3
   },
   "file_extension": ".py",
   "mimetype": "text/x-python",
   "name": "python",
   "nbconvert_exporter": "python",
   "pygments_lexer": "ipython3",
   "version": "3.7.5"
  }
 },
 "nbformat": 4,
 "nbformat_minor": 2
}
